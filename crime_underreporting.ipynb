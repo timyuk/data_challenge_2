{
 "cells": [
  {
   "cell_type": "code",
   "id": "initial_id",
   "metadata": {
    "collapsed": true,
    "ExecuteTime": {
     "end_time": "2024-06-07T13:49:01.902288Z",
     "start_time": "2024-06-07T13:49:01.897576Z"
    }
   },
   "source": [
    "import numpy as np\n",
    "import seaborn\n",
    "import matplotlib.pyplot as plt\n",
    "import pandas as pd\n",
    "import datetime as dt"
   ],
   "outputs": [],
   "execution_count": 1
  },
  {
   "metadata": {
    "ExecuteTime": {
     "end_time": "2024-06-07T13:49:05.855976Z",
     "start_time": "2024-06-07T13:49:01.973525Z"
    }
   },
   "cell_type": "code",
   "source": [
    "# Load the PAS questions data\n",
    "df = pd.read_pickle(r'data/PAS_detailed2_fixed_borough.pkl')\n",
    "df['Year-Month'] = pd.to_datetime(df['Year-Month'], format='%Y-%m-%d').dt.date"
   ],
   "id": "22898d3e57011b27",
   "outputs": [],
   "execution_count": 2
  },
  {
   "metadata": {
    "ExecuteTime": {
     "end_time": "2024-06-07T13:49:07.875452Z",
     "start_time": "2024-06-07T13:49:05.857086Z"
    }
   },
   "cell_type": "code",
   "source": [
    "df.drop(\"Borough\", axis=1, inplace=True)\n",
    "df = df.rename(columns={\"Borough name\": \"Borough\"})"
   ],
   "id": "17c3fb2337020406",
   "outputs": [],
   "execution_count": 3
  },
  {
   "metadata": {
    "ExecuteTime": {
     "end_time": "2024-06-07T13:49:07.879483Z",
     "start_time": "2024-06-07T13:49:07.876477Z"
    }
   },
   "cell_type": "code",
   "source": [
    "# lists of columns to keep in the final df\n",
    "important_cols = [\"Year-Month\", \"Year\", \"ward_n\", \"ward\", \"Borough\"]  # w/o Week and BCU as those both start in April 2020"
   ],
   "id": "2ccc770c984ca4e5",
   "outputs": [],
   "execution_count": 4
  },
  {
   "metadata": {},
   "cell_type": "markdown",
   "source": [
    "### Mapping PAS measures to numbers\n",
    "\n",
    "- Q62A: Relied on to be there\n",
    "- Q62E: Understand issues\n",
    "- Q62TG: Listen to concerns\n",
    "- Q62C: Treat everyone fairly\n",
    "- NQ135BD: Trust MPS\n",
    "- Q60: 'Good Job' local -- feels their local police is doing a good job\n",
    "- NQ133A: Contact ward officer -- know how to contact their local ward officer\n",
    "- Q131: Informed local -- feels they are informed of the local police's activities in the last 12 months"
   ],
   "id": "65be4bbde402c1a0"
  },
  {
   "metadata": {
    "ExecuteTime": {
     "end_time": "2024-06-07T13:49:07.884649Z",
     "start_time": "2024-06-07T13:49:07.880482Z"
    }
   },
   "cell_type": "code",
   "source": [
    "# Mappings for calculations\n",
    "mappings = {\n",
    "    'Tend to agree': 1,\n",
    "    'Strongly agree': 1,\n",
    "    'Neither agree nor disagree': 0,\n",
    "    'Tend to disagree': 0,\n",
    "    'Strongly disagree': 0\n",
    "}\n",
    "\n",
    "mappings2 = {\n",
    "    'Excellent': 1,\n",
    "    'Good': 1,\n",
    "    'Fair': 0,\n",
    "    'Poor': 0,\n",
    "    'Very poor': 0\n",
    "}\n",
    "\n",
    "mappings3 = {\n",
    "    'Yes': 1,\n",
    "    'No': 0\n",
    "}\n",
    "\n",
    "mappings4 = {\n",
    "    'Very well informed': 1,\n",
    "    'Fairly well informed': 1,\n",
    "    'Not at all informed': 0\n",
    "}"
   ],
   "id": "3b018f6276a8209c",
   "outputs": [],
   "execution_count": 5
  },
  {
   "metadata": {
    "ExecuteTime": {
     "end_time": "2024-06-07T13:49:07.933407Z",
     "start_time": "2024-06-07T13:49:07.884649Z"
    }
   },
   "cell_type": "code",
   "source": [
    "# Converting measure columns for calculations\n",
    "df[\"Q62A\"] = df[\"Q62A\"].map(mappings)\n",
    "df[\"Q62E\"] = df[\"Q62E\"].map(mappings)\n",
    "df[\"Q62TG\"] = df[\"Q62TG\"].map(mappings)\n",
    "df[\"Q62C\"] = df[\"Q62C\"].map(mappings)\n",
    "df[\"NQ135BD\"] = df[\"NQ135BD\"].map(mappings)\n",
    "df[\"Q60\"] = df[\"Q60\"].map(mappings2)\n",
    "df[\"NQ133A\"] = df[\"NQ133A\"].map(mappings3)\n",
    "df[\"Q131\"] = df[\"Q131\"].map(mappings4)"
   ],
   "id": "c7da39f413be25e",
   "outputs": [],
   "execution_count": 6
  },
  {
   "metadata": {},
   "cell_type": "markdown",
   "source": [
    "## Getting the underreporting statistic for each year\n",
    "\n",
    "Below is a list of all the questions we need to keep as well as from which years onwards they were asked.\n",
    "\n",
    "---\n",
    "\n",
    "We generally use the questions BQ90D and BQ90DA to determine underreporting for each year.\n",
    "\n",
    "- BQ90D: 2015-04-01 until 2019-03-01\n",
    "- BQ90DA: 2019-04-01 until 2021-03-01\n"
   ],
   "id": "198c545ef3bf8c00"
  },
  {
   "metadata": {
    "ExecuteTime": {
     "end_time": "2024-06-07T13:49:07.946278Z",
     "start_time": "2024-06-07T13:49:07.934403Z"
    }
   },
   "cell_type": "code",
   "source": [
    "# Time borders for BQ90D\n",
    "df[[\"BQ90D\", \"Year-Month\"]][~(df[\"BQ90D\"].isna())]"
   ],
   "id": "28c7c790d0bc270c",
   "outputs": [
    {
     "data": {
      "text/plain": "      BQ90D  Year-Month\n4       Yes  2015-05-01\n21       No  2015-06-01\n32      Yes  2015-04-01\n59      Yes  2015-04-01\n61      Yes  2015-05-01\n...     ...         ...\n51257   Yes  2019-02-01\n51261   Yes  2019-02-01\n51264   Yes  2019-03-01\n51265   Yes  2019-03-01\n51289   Yes  2019-03-01\n\n[5295 rows x 2 columns]",
      "text/html": "<div>\n<style scoped>\n    .dataframe tbody tr th:only-of-type {\n        vertical-align: middle;\n    }\n\n    .dataframe tbody tr th {\n        vertical-align: top;\n    }\n\n    .dataframe thead th {\n        text-align: right;\n    }\n</style>\n<table border=\"1\" class=\"dataframe\">\n  <thead>\n    <tr style=\"text-align: right;\">\n      <th></th>\n      <th>BQ90D</th>\n      <th>Year-Month</th>\n    </tr>\n  </thead>\n  <tbody>\n    <tr>\n      <th>4</th>\n      <td>Yes</td>\n      <td>2015-05-01</td>\n    </tr>\n    <tr>\n      <th>21</th>\n      <td>No</td>\n      <td>2015-06-01</td>\n    </tr>\n    <tr>\n      <th>32</th>\n      <td>Yes</td>\n      <td>2015-04-01</td>\n    </tr>\n    <tr>\n      <th>59</th>\n      <td>Yes</td>\n      <td>2015-04-01</td>\n    </tr>\n    <tr>\n      <th>61</th>\n      <td>Yes</td>\n      <td>2015-05-01</td>\n    </tr>\n    <tr>\n      <th>...</th>\n      <td>...</td>\n      <td>...</td>\n    </tr>\n    <tr>\n      <th>51257</th>\n      <td>Yes</td>\n      <td>2019-02-01</td>\n    </tr>\n    <tr>\n      <th>51261</th>\n      <td>Yes</td>\n      <td>2019-02-01</td>\n    </tr>\n    <tr>\n      <th>51264</th>\n      <td>Yes</td>\n      <td>2019-03-01</td>\n    </tr>\n    <tr>\n      <th>51265</th>\n      <td>Yes</td>\n      <td>2019-03-01</td>\n    </tr>\n    <tr>\n      <th>51289</th>\n      <td>Yes</td>\n      <td>2019-03-01</td>\n    </tr>\n  </tbody>\n</table>\n<p>5295 rows × 2 columns</p>\n</div>"
     },
     "execution_count": 7,
     "metadata": {},
     "output_type": "execute_result"
    }
   ],
   "execution_count": 7
  },
  {
   "metadata": {
    "ExecuteTime": {
     "end_time": "2024-06-07T13:49:07.957526Z",
     "start_time": "2024-06-07T13:49:07.947384Z"
    }
   },
   "cell_type": "code",
   "source": [
    "# Time borders for BQ90DA\n",
    "df[[\"BQ90DA\", \"Year-Month\"]][~(df[\"BQ90DA\"].isna())]"
   ],
   "id": "e17ac73d894ea27b",
   "outputs": [
    {
     "data": {
      "text/plain": "      BQ90DA  Year-Month\n51297    Yes  2019-04-01\n51309    Yes  2019-06-01\n51320    Yes  2019-04-01\n51322    Yes  2019-04-01\n51324    Yes  2019-04-01\n...      ...         ...\n76345    Yes  2021-03-01\n76350    Yes  2021-03-01\n76351    Yes  2021-03-01\n76358    Yes  2021-03-01\n76396    Yes  2021-03-01\n\n[3835 rows x 2 columns]",
      "text/html": "<div>\n<style scoped>\n    .dataframe tbody tr th:only-of-type {\n        vertical-align: middle;\n    }\n\n    .dataframe tbody tr th {\n        vertical-align: top;\n    }\n\n    .dataframe thead th {\n        text-align: right;\n    }\n</style>\n<table border=\"1\" class=\"dataframe\">\n  <thead>\n    <tr style=\"text-align: right;\">\n      <th></th>\n      <th>BQ90DA</th>\n      <th>Year-Month</th>\n    </tr>\n  </thead>\n  <tbody>\n    <tr>\n      <th>51297</th>\n      <td>Yes</td>\n      <td>2019-04-01</td>\n    </tr>\n    <tr>\n      <th>51309</th>\n      <td>Yes</td>\n      <td>2019-06-01</td>\n    </tr>\n    <tr>\n      <th>51320</th>\n      <td>Yes</td>\n      <td>2019-04-01</td>\n    </tr>\n    <tr>\n      <th>51322</th>\n      <td>Yes</td>\n      <td>2019-04-01</td>\n    </tr>\n    <tr>\n      <th>51324</th>\n      <td>Yes</td>\n      <td>2019-04-01</td>\n    </tr>\n    <tr>\n      <th>...</th>\n      <td>...</td>\n      <td>...</td>\n    </tr>\n    <tr>\n      <th>76345</th>\n      <td>Yes</td>\n      <td>2021-03-01</td>\n    </tr>\n    <tr>\n      <th>76350</th>\n      <td>Yes</td>\n      <td>2021-03-01</td>\n    </tr>\n    <tr>\n      <th>76351</th>\n      <td>Yes</td>\n      <td>2021-03-01</td>\n    </tr>\n    <tr>\n      <th>76358</th>\n      <td>Yes</td>\n      <td>2021-03-01</td>\n    </tr>\n    <tr>\n      <th>76396</th>\n      <td>Yes</td>\n      <td>2021-03-01</td>\n    </tr>\n  </tbody>\n</table>\n<p>3835 rows × 2 columns</p>\n</div>"
     },
     "execution_count": 8,
     "metadata": {},
     "output_type": "execute_result"
    }
   ],
   "execution_count": 8
  },
  {
   "metadata": {
    "ExecuteTime": {
     "end_time": "2024-06-07T13:49:07.963202Z",
     "start_time": "2024-06-07T13:49:07.957526Z"
    }
   },
   "cell_type": "code",
   "source": [
    "def calc_wards(df_func, question_column):\n",
    "    # Ensure the question column is binary (1 for 'No' and 0 for 'Yes')\n",
    "    if set(df_func[question_column].unique()) != {0, 1}:\n",
    "        raise ValueError(\"Question column must be binary with 1 for 'No' and 0 for 'Yes'\")\n",
    "\n",
    "    # Group by the relevant columns and calculate the proportion of 'No' responses\n",
    "    grouped = df_func.groupby([\"Year-Month\", \"Borough\", \"ward_n\"]).agg(\n",
    "        no_count=(question_column, 'sum'),\n",
    "        total_count=(question_column, 'count')\n",
    "    ).reset_index()\n",
    "\n",
    "    # Calculate the proportion of 'No' responses\n",
    "    grouped[\"Proportion_no\"] = grouped[\"no_count\"] / grouped[\"total_count\"]\n",
    "    grouped[\"Total_prop_no\"] = grouped[\"no_count\"] / total_respondents\n",
    "    \n",
    "    # Add the question column to the result\n",
    "    grouped[\"Question\"] = question_column\n",
    "    \n",
    "    # Select the desired columns\n",
    "    result_df = grouped[[\"Year-Month\", \"Borough\", \"ward_n\", \"Question\", \"total_count\", \"no_count\", \"Proportion_no\", \"Total_prop_no\"]]\n",
    "    \n",
    "    return result_df"
   ],
   "id": "d3b40f31b7159692",
   "outputs": [],
   "execution_count": 9
  },
  {
   "metadata": {},
   "cell_type": "markdown",
   "source": [
    "\n",
    "\n",
    "### 2015 - 2017\n",
    "- BQ90A: Have you been a victim of crime or Anti-Social Behaviour in the last 12 months? => yes/no\n",
    "- BQ90B: Thinking about the most recent incident, was this in your local area, elsewhere in London or outside of London?\n",
    "- BQ90C: Was it...? => types of crime\n",
    "- **BQ90D: Did you report this to anyone? => yes/no**\n",
    "- **SQ109CAA: Who did you report it to? => _filter_**\n",
    "\n",
    "__Extra:__\n",
    "- NSQ190's: Did anything happen after you reported it?\n",
    "- PQ98A: In the last 12 months has anyone tried to discourage you from reporting a crime to the police? IF YES - Who was that?\n",
    "- PQ98ABA: Who was that? Police Officer\n",
    "- PQ98ABB: Who was that? Another member of the police service, including someone over the phone\n",
    "- PQ98B's: In what way did the police discourage you?"
   ],
   "id": "1a51642281e94397"
  },
  {
   "metadata": {},
   "cell_type": "markdown",
   "source": [
    "### 2017/18 -2018/19\n",
    "__Extra:__\n",
    "- XQ191's: Why did you not report this to the police?\n",
    "- XQ192: If something like this happened again would you report it to the police? => yes/no  "
   ],
   "id": "2cef67bb2e226c2b"
  },
  {
   "metadata": {
    "ExecuteTime": {
     "end_time": "2024-06-07T13:49:07.974080Z",
     "start_time": "2024-06-07T13:49:07.963202Z"
    }
   },
   "cell_type": "code",
   "source": [
    "print(df.shape)\n",
    "print(df[\"BQ90A\"].value_counts())\n",
    "print(df[\"BQ90A\"].value_counts()[\"Yes\"] / df.shape[0], \"respondents have experienced a crime in the past 12 months.\")"
   ],
   "id": "26eecd330962df80",
   "outputs": [
    {
     "name": "stdout",
     "output_type": "stream",
     "text": [
      "(76398, 635)\n",
      "BQ90A\n",
      "No     67206\n",
      "Yes     9140\n",
      "Name: count, dtype: int64\n",
      "0.11963663970261001 respondents have experienced a crime in the past 12 months.\n"
     ]
    }
   ],
   "execution_count": 10
  },
  {
   "metadata": {
    "ExecuteTime": {
     "end_time": "2024-06-07T13:49:07.981835Z",
     "start_time": "2024-06-07T13:49:07.975075Z"
    }
   },
   "cell_type": "code",
   "source": [
    "# Counts for types of crime\n",
    "df[\"BQ90C\"].value_counts()"
   ],
   "id": "41eb7dc4916e6b42",
   "outputs": [
    {
     "data": {
      "text/plain": "BQ90C\nProperty crime                                                          4037\nAnti-Social Behaviour                                                   2206\nHarassment                                                               754\nOther                                                                    748\nViolent crime                                                            533\nHate crime                                                               272\nCredit/debit card fraud                                                  176\nCredit/debit card fraud                                                  174\nIdentity theft/fraud                                                      56\nOnline contact that has caused fear, alarm or distress                    41\nIdentity theft                                                            32\nKnife crime - being threatened with a knife or attacked with a knife      29\nOnline                                                                    26\nKnife crime                                                               16\nName: count, dtype: int64"
     },
     "execution_count": 11,
     "metadata": {},
     "output_type": "execute_result"
    }
   ],
   "execution_count": 11
  },
  {
   "metadata": {
    "ExecuteTime": {
     "end_time": "2024-06-07T13:49:07.995804Z",
     "start_time": "2024-06-07T13:49:07.981835Z"
    }
   },
   "cell_type": "code",
   "source": [
    "# Counts for whether they reported the crime by types of crime\n",
    "df[[\"BQ90C\", \"BQ90D\"]].value_counts()"
   ],
   "id": "3e97569e909dedf7",
   "outputs": [
    {
     "data": {
      "text/plain": "BQ90C                                                                 BQ90D\nProperty crime                                                        Yes      1998\nAnti-Social Behaviour                                                 Yes       690\nProperty crime                                                        No        519\nAnti-Social Behaviour                                                 No        488\nOther                                                                 Yes       291\nHarassment                                                            Yes       283\nViolent crime                                                         Yes       257\nHarassment                                                            No        141\nCredit/debit card fraud                                               Yes       106\nOther                                                                 No         96\nCredit/debit card fraud                                               Yes        84\nHate crime                                                            Yes        73\n                                                                      No         63\nViolent crime                                                         No         51\nIdentity theft/fraud                                                  Yes        46\nOnline                                                                Yes        20\nCredit/debit card fraud                                               No         19\nCredit/debit card fraud                                               No         13\nKnife crime - being threatened with a knife or attacked with a knife  Yes        12\nOnline contact that has caused fear, alarm or distress                Yes         9\nOnline                                                                No          6\nIdentity theft/fraud                                                  No          3\nKnife crime - being threatened with a knife or attacked with a knife  No          3\nOnline contact that has caused fear, alarm or distress                No          2\nName: count, dtype: int64"
     },
     "execution_count": 12,
     "metadata": {},
     "output_type": "execute_result"
    }
   ],
   "execution_count": 12
  },
  {
   "metadata": {
    "ExecuteTime": {
     "end_time": "2024-06-07T13:49:13.000749Z",
     "start_time": "2024-06-07T13:49:07.996898Z"
    }
   },
   "cell_type": "code",
   "source": [
    "# Replace non-police entities with NaN\n",
    "df = df.replace({'Residents Association': np.nan, 'Other': np.nan})\n",
    "print(df[\"SQ109CAA\"].unique())\n",
    "print(df[\"SQ109CAA\"].value_counts())  # actual reporting numbers"
   ],
   "id": "48e52a506217e3b2",
   "outputs": [
    {
     "name": "stderr",
     "output_type": "stream",
     "text": [
      "C:\\Users\\20221317\\AppData\\Local\\Temp\\ipykernel_21964\\2624843496.py:2: FutureWarning: Downcasting behavior in `replace` is deprecated and will be removed in a future version. To retain the old behavior, explicitly call `result.infer_objects(copy=False)`. To opt-in to the future behavior, set `pd.set_option('future.no_silent_downcasting', True)`\n",
      "  df = df.replace({'Residents Association': np.nan, 'Other': np.nan})\n"
     ]
    },
    {
     "name": "stdout",
     "output_type": "stream",
     "text": [
      "[nan 'Police (other than Local Policing Team)' 'Local Policing Team'\n",
      " 'Local Authority/Council' 'Neighbourhood wardens']\n",
      "SQ109CAA\n",
      "Local Policing Team                        1781\n",
      "Police (other than Local Policing Team)    1760\n",
      "Local Authority/Council                     111\n",
      "Neighbourhood wardens                         9\n",
      "Name: count, dtype: int64\n"
     ]
    }
   ],
   "execution_count": 13
  },
  {
   "metadata": {
    "ExecuteTime": {
     "end_time": "2024-06-07T13:49:13.012517Z",
     "start_time": "2024-06-07T13:49:13.000749Z"
    }
   },
   "cell_type": "code",
   "source": [
    "# add year column to check underreporting stats per year\n",
    "df[\"Year\"] = pd.DatetimeIndex(df['Year-Month']).year"
   ],
   "id": "6b2c3b68b9d8e35a",
   "outputs": [],
   "execution_count": 14
  },
  {
   "metadata": {
    "ExecuteTime": {
     "end_time": "2024-06-07T13:49:13.026138Z",
     "start_time": "2024-06-07T13:49:13.012517Z"
    }
   },
   "cell_type": "code",
   "source": [
    "# size of people who answered Yes or No to reporting a crime on the survey 2015 - 2021\n",
    "total_respondents = df[[\"Year-Month\", \"BQ90D\", \"BQ90DA\"]][~(df[\"BQ90D\"].isna()) | ~(df[\"BQ90DA\"].isna())].shape[0]\n",
    "total_respondents"
   ],
   "id": "526bfe76dac42051",
   "outputs": [
    {
     "data": {
      "text/plain": "9130"
     },
     "execution_count": 15,
     "metadata": {},
     "output_type": "execute_result"
    }
   ],
   "execution_count": 15
  },
  {
   "metadata": {
    "ExecuteTime": {
     "end_time": "2024-06-07T13:49:13.199938Z",
     "start_time": "2024-06-07T13:49:13.026734Z"
    }
   },
   "cell_type": "code",
   "source": [
    "## BQ90D asked from 2015 to start of 2019 -- only those reported to police entities\n",
    "# Where they answered the question AND where it was not reported to police\n",
    "df_1519 = df[important_cols + [\"BQ90D\", \"BQ90B\", \"BQ90C\", \"SQ109CAA\", 'NQ135BD', 'Q60']][~(df[\"BQ90D\"].isna()) & (df[\"BQ90B\"].isin(['In local area', 'Elsewhere in London']))].copy()\n",
    "df_1519.loc[(df_1519['BQ90D'] == 'Yes')&(df_1519['SQ109CAA'].isna()), 'BQ90D'] = 'No'\n",
    "\n",
    "df_1519[\"BQ90D\"] = df_1519[\"BQ90D\"].map({\n",
    "    'Yes': 0,\n",
    "    'No': 1\n",
    "})\n",
    "\n",
    "# Total underreporting 2015 - 2019\n",
    "print(df_1519.shape)\n",
    "print(df_1519[[\"BQ90D\"]].value_counts())\n",
    "print(\"Percentage of underreporting 2015-2019: \", df_1519[df_1519[\"BQ90D\"] == 1.0].shape[0] / df_1519[~(df_1519[\"BQ90D\"].isna())].shape[0])\n",
    "print(\"-------------------------------------------------------\")\n",
    "\n",
    "for year in df_1519[\"Year\"].unique():\n",
    "    df_15_insights = df_1519[df_1519[\"Year\"] == year]\n",
    "    print(f\"% total underreporting {year}: \", \n",
    "          df_15_insights[df_15_insights[\"BQ90D\"] == 1.0].shape[0] / \n",
    "          df[(df[\"Year\"] == year) & ~(df[\"BQ90D\"].isna())].shape[0])\n",
    "print(\"2019 underreporting goes until the end of February 2019.\")\n",
    "\n",
    "df2 = calc_wards(df_1519, \"BQ90D\")\n",
    "df2"
   ],
   "id": "4c19adb07efbc282",
   "outputs": [
    {
     "name": "stdout",
     "output_type": "stream",
     "text": [
      "(5124, 11)\n",
      "BQ90D\n",
      "0        3573\n",
      "1        1551\n",
      "Name: count, dtype: int64\n",
      "Percentage of underreporting 2015-2019:  0.30269320843091335\n",
      "-------------------------------------------------------\n",
      "% total underreporting 2015:  0.2782101167315175\n",
      "% total underreporting 2016:  0.2892451569806279\n",
      "% total underreporting 2017:  0.3145631067961165\n",
      "% total underreporting 2018:  0.2822222222222222\n",
      "% total underreporting 2019:  0.32564102564102565\n",
      "2019 underreporting goes until the end of February 2019.\n"
     ]
    },
    {
     "data": {
      "text/plain": "      Year-Month               Borough          ward_n Question  total_count  \\\n0     2015-04-01  Barking and Dagenham       Becontree    BQ90D            1   \n1     2015-04-01  Barking and Dagenham        Eastbury    BQ90D            1   \n2     2015-04-01  Barking and Dagenham           Heath    BQ90D            2   \n3     2015-04-01  Barking and Dagenham        Parsloes    BQ90D            2   \n4     2015-04-01                Barnet       Burnt Oak    BQ90D            1   \n...          ...                   ...             ...      ...          ...   \n3773  2019-03-01        Waltham Forest      Lea Bridge    BQ90D            1   \n3774  2019-03-01            Wandsworth     Thamesfield    BQ90D            1   \n3775  2019-03-01           Westminster   Church Street    BQ90D            1   \n3776  2019-03-01           Westminster       Hyde Park    BQ90D            2   \n3777  2019-03-01           Westminster  Lancaster Gate    BQ90D            1   \n\n      no_count  Proportion_no  Total_prop_no  \n0            0            0.0        0.00000  \n1            0            0.0        0.00000  \n2            1            0.5        0.00011  \n3            0            0.0        0.00000  \n4            0            0.0        0.00000  \n...        ...            ...            ...  \n3773         1            1.0        0.00011  \n3774         1            1.0        0.00011  \n3775         1            1.0        0.00011  \n3776         1            0.5        0.00011  \n3777         0            0.0        0.00000  \n\n[3778 rows x 8 columns]",
      "text/html": "<div>\n<style scoped>\n    .dataframe tbody tr th:only-of-type {\n        vertical-align: middle;\n    }\n\n    .dataframe tbody tr th {\n        vertical-align: top;\n    }\n\n    .dataframe thead th {\n        text-align: right;\n    }\n</style>\n<table border=\"1\" class=\"dataframe\">\n  <thead>\n    <tr style=\"text-align: right;\">\n      <th></th>\n      <th>Year-Month</th>\n      <th>Borough</th>\n      <th>ward_n</th>\n      <th>Question</th>\n      <th>total_count</th>\n      <th>no_count</th>\n      <th>Proportion_no</th>\n      <th>Total_prop_no</th>\n    </tr>\n  </thead>\n  <tbody>\n    <tr>\n      <th>0</th>\n      <td>2015-04-01</td>\n      <td>Barking and Dagenham</td>\n      <td>Becontree</td>\n      <td>BQ90D</td>\n      <td>1</td>\n      <td>0</td>\n      <td>0.0</td>\n      <td>0.00000</td>\n    </tr>\n    <tr>\n      <th>1</th>\n      <td>2015-04-01</td>\n      <td>Barking and Dagenham</td>\n      <td>Eastbury</td>\n      <td>BQ90D</td>\n      <td>1</td>\n      <td>0</td>\n      <td>0.0</td>\n      <td>0.00000</td>\n    </tr>\n    <tr>\n      <th>2</th>\n      <td>2015-04-01</td>\n      <td>Barking and Dagenham</td>\n      <td>Heath</td>\n      <td>BQ90D</td>\n      <td>2</td>\n      <td>1</td>\n      <td>0.5</td>\n      <td>0.00011</td>\n    </tr>\n    <tr>\n      <th>3</th>\n      <td>2015-04-01</td>\n      <td>Barking and Dagenham</td>\n      <td>Parsloes</td>\n      <td>BQ90D</td>\n      <td>2</td>\n      <td>0</td>\n      <td>0.0</td>\n      <td>0.00000</td>\n    </tr>\n    <tr>\n      <th>4</th>\n      <td>2015-04-01</td>\n      <td>Barnet</td>\n      <td>Burnt Oak</td>\n      <td>BQ90D</td>\n      <td>1</td>\n      <td>0</td>\n      <td>0.0</td>\n      <td>0.00000</td>\n    </tr>\n    <tr>\n      <th>...</th>\n      <td>...</td>\n      <td>...</td>\n      <td>...</td>\n      <td>...</td>\n      <td>...</td>\n      <td>...</td>\n      <td>...</td>\n      <td>...</td>\n    </tr>\n    <tr>\n      <th>3773</th>\n      <td>2019-03-01</td>\n      <td>Waltham Forest</td>\n      <td>Lea Bridge</td>\n      <td>BQ90D</td>\n      <td>1</td>\n      <td>1</td>\n      <td>1.0</td>\n      <td>0.00011</td>\n    </tr>\n    <tr>\n      <th>3774</th>\n      <td>2019-03-01</td>\n      <td>Wandsworth</td>\n      <td>Thamesfield</td>\n      <td>BQ90D</td>\n      <td>1</td>\n      <td>1</td>\n      <td>1.0</td>\n      <td>0.00011</td>\n    </tr>\n    <tr>\n      <th>3775</th>\n      <td>2019-03-01</td>\n      <td>Westminster</td>\n      <td>Church Street</td>\n      <td>BQ90D</td>\n      <td>1</td>\n      <td>1</td>\n      <td>1.0</td>\n      <td>0.00011</td>\n    </tr>\n    <tr>\n      <th>3776</th>\n      <td>2019-03-01</td>\n      <td>Westminster</td>\n      <td>Hyde Park</td>\n      <td>BQ90D</td>\n      <td>2</td>\n      <td>1</td>\n      <td>0.5</td>\n      <td>0.00011</td>\n    </tr>\n    <tr>\n      <th>3777</th>\n      <td>2019-03-01</td>\n      <td>Westminster</td>\n      <td>Lancaster Gate</td>\n      <td>BQ90D</td>\n      <td>1</td>\n      <td>0</td>\n      <td>0.0</td>\n      <td>0.00000</td>\n    </tr>\n  </tbody>\n</table>\n<p>3778 rows × 8 columns</p>\n</div>"
     },
     "execution_count": 16,
     "metadata": {},
     "output_type": "execute_result"
    }
   ],
   "execution_count": 16
  },
  {
   "metadata": {},
   "cell_type": "markdown",
   "source": [
    "### 2019/20 - 2020/21\n",
    "\n",
    "- **BQ90DA: Did you report it to the police? => yes/no**\n",
    "\n",
    "__Extra:__\n",
    "- XQ119B: As a result of your contact with the police on this occasion, please tell me if your opinion is now better, worse or has not changed?"
   ],
   "id": "72eba0029e05b726"
  },
  {
   "metadata": {
    "ExecuteTime": {
     "end_time": "2024-06-07T13:49:13.360302Z",
     "start_time": "2024-06-07T13:49:13.200936Z"
    }
   },
   "cell_type": "code",
   "source": [
    "## BQ90DA asked from 2019 to start of 2021 -- specifically for the police\n",
    "df_1921 = df[important_cols + [\"BQ90DA\"]][~(df[\"BQ90DA\"].isna())].copy()\n",
    "\n",
    "df_1921[\"BQ90DA\"] = df_1921[\"BQ90DA\"].map({\n",
    "    'Yes': 0,\n",
    "    'No': 1\n",
    "})\n",
    "\n",
    "# Total underreporting 2019 - 2021\n",
    "print(df_1921.shape)\n",
    "print(df_1921[[\"BQ90DA\"]].value_counts())\n",
    "print(\"Percentage of underreporting 2019-2021: \", df_1921[df_1921[\"BQ90DA\"] == 1.0].shape[0] / df_1921[~(df_1921[\"BQ90DA\"].isna())].shape[0])\n",
    "print(\"-------------------------------------------------------\")\n",
    "\n",
    "for year in df_1921[\"Year\"].unique():\n",
    "    df_19_insights = df_1921[df_1921[\"Year\"] == year]\n",
    "    print(f\"% total underreporting {year}: \", \n",
    "          df_19_insights[df_19_insights[\"BQ90DA\"] == 1.0].shape[0] / \n",
    "          df[(df[\"Year\"] == year) & ~(df[\"BQ90DA\"].isna())].shape[0])\n",
    "print(\"2021 underreporting goes until the end of February 2021.\")\n",
    "\n",
    "df3 = calc_wards(df_1921, \"BQ90DA\")\n",
    "df3"
   ],
   "id": "5c2eec0e1107d130",
   "outputs": [
    {
     "name": "stdout",
     "output_type": "stream",
     "text": [
      "(3835, 6)\n",
      "BQ90DA\n",
      "0         2682\n",
      "1         1153\n",
      "Name: count, dtype: int64\n",
      "Percentage of underreporting 2019-2021:  0.30065189048239893\n",
      "-------------------------------------------------------\n",
      "% total underreporting 2019:  0.3514460999123576\n",
      "% total underreporting 2020:  0.27623807360290775\n",
      "% total underreporting 2021:  0.2920892494929006\n",
      "2021 underreporting goes until the end of February 2021.\n"
     ]
    },
    {
     "data": {
      "text/plain": "      Year-Month               Borough       ward_n Question  total_count  \\\n0     2019-04-01  Barking and Dagenham   Goresbrook   BQ90DA            1   \n1     2019-04-01  Barking and Dagenham      Valence   BQ90DA            1   \n2     2019-04-01                Barnet     Coppetts   BQ90DA            1   \n3     2019-04-01                Barnet  High Barnet   BQ90DA            1   \n4     2019-04-01                Bexley        Erith   BQ90DA            3   \n...          ...                   ...          ...      ...          ...   \n3078  2021-03-01            Wandsworth    Fairfield   BQ90DA            1   \n3079  2021-03-01            Wandsworth  Thamesfield   BQ90DA            1   \n3080  2021-03-01           Westminster    Hyde Park   BQ90DA            1   \n3081  2021-03-01           Westminster     West End   BQ90DA            1   \n3082  2021-03-01           Westminster   Westbourne   BQ90DA            2   \n\n      no_count  Proportion_no  Total_prop_no  \n0            0       0.000000        0.00000  \n1            1       1.000000        0.00011  \n2            0       0.000000        0.00000  \n3            1       1.000000        0.00011  \n4            1       0.333333        0.00011  \n...        ...            ...            ...  \n3078         0       0.000000        0.00000  \n3079         1       1.000000        0.00011  \n3080         1       1.000000        0.00011  \n3081         0       0.000000        0.00000  \n3082         1       0.500000        0.00011  \n\n[3083 rows x 8 columns]",
      "text/html": "<div>\n<style scoped>\n    .dataframe tbody tr th:only-of-type {\n        vertical-align: middle;\n    }\n\n    .dataframe tbody tr th {\n        vertical-align: top;\n    }\n\n    .dataframe thead th {\n        text-align: right;\n    }\n</style>\n<table border=\"1\" class=\"dataframe\">\n  <thead>\n    <tr style=\"text-align: right;\">\n      <th></th>\n      <th>Year-Month</th>\n      <th>Borough</th>\n      <th>ward_n</th>\n      <th>Question</th>\n      <th>total_count</th>\n      <th>no_count</th>\n      <th>Proportion_no</th>\n      <th>Total_prop_no</th>\n    </tr>\n  </thead>\n  <tbody>\n    <tr>\n      <th>0</th>\n      <td>2019-04-01</td>\n      <td>Barking and Dagenham</td>\n      <td>Goresbrook</td>\n      <td>BQ90DA</td>\n      <td>1</td>\n      <td>0</td>\n      <td>0.000000</td>\n      <td>0.00000</td>\n    </tr>\n    <tr>\n      <th>1</th>\n      <td>2019-04-01</td>\n      <td>Barking and Dagenham</td>\n      <td>Valence</td>\n      <td>BQ90DA</td>\n      <td>1</td>\n      <td>1</td>\n      <td>1.000000</td>\n      <td>0.00011</td>\n    </tr>\n    <tr>\n      <th>2</th>\n      <td>2019-04-01</td>\n      <td>Barnet</td>\n      <td>Coppetts</td>\n      <td>BQ90DA</td>\n      <td>1</td>\n      <td>0</td>\n      <td>0.000000</td>\n      <td>0.00000</td>\n    </tr>\n    <tr>\n      <th>3</th>\n      <td>2019-04-01</td>\n      <td>Barnet</td>\n      <td>High Barnet</td>\n      <td>BQ90DA</td>\n      <td>1</td>\n      <td>1</td>\n      <td>1.000000</td>\n      <td>0.00011</td>\n    </tr>\n    <tr>\n      <th>4</th>\n      <td>2019-04-01</td>\n      <td>Bexley</td>\n      <td>Erith</td>\n      <td>BQ90DA</td>\n      <td>3</td>\n      <td>1</td>\n      <td>0.333333</td>\n      <td>0.00011</td>\n    </tr>\n    <tr>\n      <th>...</th>\n      <td>...</td>\n      <td>...</td>\n      <td>...</td>\n      <td>...</td>\n      <td>...</td>\n      <td>...</td>\n      <td>...</td>\n      <td>...</td>\n    </tr>\n    <tr>\n      <th>3078</th>\n      <td>2021-03-01</td>\n      <td>Wandsworth</td>\n      <td>Fairfield</td>\n      <td>BQ90DA</td>\n      <td>1</td>\n      <td>0</td>\n      <td>0.000000</td>\n      <td>0.00000</td>\n    </tr>\n    <tr>\n      <th>3079</th>\n      <td>2021-03-01</td>\n      <td>Wandsworth</td>\n      <td>Thamesfield</td>\n      <td>BQ90DA</td>\n      <td>1</td>\n      <td>1</td>\n      <td>1.000000</td>\n      <td>0.00011</td>\n    </tr>\n    <tr>\n      <th>3080</th>\n      <td>2021-03-01</td>\n      <td>Westminster</td>\n      <td>Hyde Park</td>\n      <td>BQ90DA</td>\n      <td>1</td>\n      <td>1</td>\n      <td>1.000000</td>\n      <td>0.00011</td>\n    </tr>\n    <tr>\n      <th>3081</th>\n      <td>2021-03-01</td>\n      <td>Westminster</td>\n      <td>West End</td>\n      <td>BQ90DA</td>\n      <td>1</td>\n      <td>0</td>\n      <td>0.000000</td>\n      <td>0.00000</td>\n    </tr>\n    <tr>\n      <th>3082</th>\n      <td>2021-03-01</td>\n      <td>Westminster</td>\n      <td>Westbourne</td>\n      <td>BQ90DA</td>\n      <td>2</td>\n      <td>1</td>\n      <td>0.500000</td>\n      <td>0.00011</td>\n    </tr>\n  </tbody>\n</table>\n<p>3083 rows × 8 columns</p>\n</div>"
     },
     "execution_count": 17,
     "metadata": {},
     "output_type": "execute_result"
    }
   ],
   "execution_count": 17
  },
  {
   "metadata": {},
   "cell_type": "markdown",
   "source": [
    "### 2021/2022\n",
    "\n",
    "**NOTE:** This specific year does not have BQ90D(A), hence we need to take weighted averages of the negative answers of the following:\n",
    "\n",
    "- XQ59C: How likely or unlikely would you be to report the following to the police...? Someone you know personally, who you think might be involved in terrorism\n",
    "- XQ59D: How likely or unlikely would you be to report the following to the police...? Someone you know personally, who you think might be vulnerable to radicalisation\n",
    "\n",
    "THIS YEAR AND ONWARDS WILL LIKELY BE DISCARDED WHEN CALCULATING UNDERREPORTING DUE TO TOO SPECIFIC QUESTIONS."
   ],
   "id": "56dede68b34cebe3"
  },
  {
   "metadata": {
    "ExecuteTime": {
     "end_time": "2024-06-07T13:49:13.382057Z",
     "start_time": "2024-06-07T13:49:13.361286Z"
    }
   },
   "cell_type": "code",
   "source": [
    "# Mapping scales to interpretable values -- possible underreporting\n",
    "df[\"XQ59C\"] = df[\"XQ59C\"].map({\n",
    "    'Very likely': 0,\n",
    "    'Fairly likely': 0,\n",
    "    'Neither likely nor unlikely': 0,\n",
    "    'Fairly unlikely': 1,\n",
    "    'Very unlikely': 1,\n",
    "    'Refused': np.nan\n",
    "})\n",
    "\n",
    "df[\"XQ59D\"] = df[\"XQ59D\"].map({\n",
    "    'Very likely': 0,\n",
    "    'Fairly likely': 0,\n",
    "    'Neither likely nor unlikely': 0,\n",
    "    'Fairly unlikely': 1,\n",
    "    'Very unlikely': 1,\n",
    "    'Refused': np.nan\n",
    "})"
   ],
   "id": "18c1aca32a348001",
   "outputs": [],
   "execution_count": 18
  },
  {
   "metadata": {
    "ExecuteTime": {
     "end_time": "2024-06-07T13:49:13.420148Z",
     "start_time": "2024-06-07T13:49:13.383048Z"
    }
   },
   "cell_type": "code",
   "source": [
    "# Total underreporting 2021 - 2022 -- difficult questions that don't cover all of underreporting (only on terrorism and radicalization)\n",
    "df_2122 = df[important_cols + [\"XQ59C\", \"XQ59D\"]][~((df[\"XQ59C\"].isna()) | (df[\"XQ59D\"].isna()))].copy()\n",
    "\n",
    "print(df_2122.shape)\n",
    "print(df_2122[[\"XQ59C\"]].value_counts())\n",
    "print(\"Percentage of possible underreporting terrorism 2021-2022: \", df_2122[df_2122[\"XQ59C\"] == 1.0].shape[0]/df_2122.shape[0])\n",
    "print(df_2122[[\"XQ59D\"]].value_counts())\n",
    "print(\"Percentage of possible underreporting radicalization 2021-2022: \", df_2122[df_2122[\"XQ59D\"] == 1.0].shape[0]/df_2122.shape[0])"
   ],
   "id": "b8868dcbdbd179e5",
   "outputs": [
    {
     "name": "stdout",
     "output_type": "stream",
     "text": [
      "(21142, 7)\n",
      "XQ59C\n",
      "0.0      20296\n",
      "1.0        846\n",
      "Name: count, dtype: int64\n",
      "Percentage of possible underreporting terrorism 2021-2022:  0.04001513574874657\n",
      "XQ59D\n",
      "0.0      20028\n",
      "1.0       1114\n",
      "Name: count, dtype: int64\n",
      "Percentage of possible underreporting radicalization 2021-2022:  0.05269132532399962\n"
     ]
    }
   ],
   "execution_count": 19
  },
  {
   "metadata": {
    "ExecuteTime": {
     "end_time": "2024-06-07T13:49:13.449383Z",
     "start_time": "2024-06-07T13:49:13.421148Z"
    }
   },
   "cell_type": "code",
   "source": [
    "# Combining cells\n",
    "df_2122 = df_2122.astype({\"XQ59C\": int, \"XQ59D\": int})\n",
    "df_2122[\"XQ59CD\"] = df_2122[\"XQ59C\"] | df_2122[\"XQ59D\"]\n",
    "df4 = calc_wards(df_2122, \"XQ59CD\")\n",
    "df4"
   ],
   "id": "3598c32edf258f24",
   "outputs": [
    {
     "data": {
      "text/plain": "      Year-Month               Borough                       ward_n Question  \\\n0     2018-07-01  Barking and Dagenham                       Alibon   XQ59CD   \n1     2018-07-01  Barking and Dagenham                    Becontree   XQ59CD   \n2     2018-07-01  Barking and Dagenham                        Heath   XQ59CD   \n3     2018-07-01  Barking and Dagenham                   Longbridge   XQ59CD   \n4     2018-07-01  Barking and Dagenham                   Mayesbrook   XQ59CD   \n...          ...                   ...                          ...      ...   \n4383  2020-03-01           Westminster                  Harrow Road   XQ59CD   \n4384  2020-03-01           Westminster  Knightsbridge and Belgravia   XQ59CD   \n4385  2020-03-01           Westminster               Lancaster Gate   XQ59CD   \n4386  2020-03-01           Westminster                      Warwick   XQ59CD   \n4387  2020-03-01           Westminster                   Westbourne   XQ59CD   \n\n      total_count  no_count  Proportion_no  Total_prop_no  \n0               1         0            0.0            0.0  \n1               8         0            0.0            0.0  \n2               6         0            0.0            0.0  \n3               5         0            0.0            0.0  \n4               4         0            0.0            0.0  \n...           ...       ...            ...            ...  \n4383            8         0            0.0            0.0  \n4384            2         0            0.0            0.0  \n4385            1         0            0.0            0.0  \n4386            2         0            0.0            0.0  \n4387            1         0            0.0            0.0  \n\n[4388 rows x 8 columns]",
      "text/html": "<div>\n<style scoped>\n    .dataframe tbody tr th:only-of-type {\n        vertical-align: middle;\n    }\n\n    .dataframe tbody tr th {\n        vertical-align: top;\n    }\n\n    .dataframe thead th {\n        text-align: right;\n    }\n</style>\n<table border=\"1\" class=\"dataframe\">\n  <thead>\n    <tr style=\"text-align: right;\">\n      <th></th>\n      <th>Year-Month</th>\n      <th>Borough</th>\n      <th>ward_n</th>\n      <th>Question</th>\n      <th>total_count</th>\n      <th>no_count</th>\n      <th>Proportion_no</th>\n      <th>Total_prop_no</th>\n    </tr>\n  </thead>\n  <tbody>\n    <tr>\n      <th>0</th>\n      <td>2018-07-01</td>\n      <td>Barking and Dagenham</td>\n      <td>Alibon</td>\n      <td>XQ59CD</td>\n      <td>1</td>\n      <td>0</td>\n      <td>0.0</td>\n      <td>0.0</td>\n    </tr>\n    <tr>\n      <th>1</th>\n      <td>2018-07-01</td>\n      <td>Barking and Dagenham</td>\n      <td>Becontree</td>\n      <td>XQ59CD</td>\n      <td>8</td>\n      <td>0</td>\n      <td>0.0</td>\n      <td>0.0</td>\n    </tr>\n    <tr>\n      <th>2</th>\n      <td>2018-07-01</td>\n      <td>Barking and Dagenham</td>\n      <td>Heath</td>\n      <td>XQ59CD</td>\n      <td>6</td>\n      <td>0</td>\n      <td>0.0</td>\n      <td>0.0</td>\n    </tr>\n    <tr>\n      <th>3</th>\n      <td>2018-07-01</td>\n      <td>Barking and Dagenham</td>\n      <td>Longbridge</td>\n      <td>XQ59CD</td>\n      <td>5</td>\n      <td>0</td>\n      <td>0.0</td>\n      <td>0.0</td>\n    </tr>\n    <tr>\n      <th>4</th>\n      <td>2018-07-01</td>\n      <td>Barking and Dagenham</td>\n      <td>Mayesbrook</td>\n      <td>XQ59CD</td>\n      <td>4</td>\n      <td>0</td>\n      <td>0.0</td>\n      <td>0.0</td>\n    </tr>\n    <tr>\n      <th>...</th>\n      <td>...</td>\n      <td>...</td>\n      <td>...</td>\n      <td>...</td>\n      <td>...</td>\n      <td>...</td>\n      <td>...</td>\n      <td>...</td>\n    </tr>\n    <tr>\n      <th>4383</th>\n      <td>2020-03-01</td>\n      <td>Westminster</td>\n      <td>Harrow Road</td>\n      <td>XQ59CD</td>\n      <td>8</td>\n      <td>0</td>\n      <td>0.0</td>\n      <td>0.0</td>\n    </tr>\n    <tr>\n      <th>4384</th>\n      <td>2020-03-01</td>\n      <td>Westminster</td>\n      <td>Knightsbridge and Belgravia</td>\n      <td>XQ59CD</td>\n      <td>2</td>\n      <td>0</td>\n      <td>0.0</td>\n      <td>0.0</td>\n    </tr>\n    <tr>\n      <th>4385</th>\n      <td>2020-03-01</td>\n      <td>Westminster</td>\n      <td>Lancaster Gate</td>\n      <td>XQ59CD</td>\n      <td>1</td>\n      <td>0</td>\n      <td>0.0</td>\n      <td>0.0</td>\n    </tr>\n    <tr>\n      <th>4386</th>\n      <td>2020-03-01</td>\n      <td>Westminster</td>\n      <td>Warwick</td>\n      <td>XQ59CD</td>\n      <td>2</td>\n      <td>0</td>\n      <td>0.0</td>\n      <td>0.0</td>\n    </tr>\n    <tr>\n      <th>4387</th>\n      <td>2020-03-01</td>\n      <td>Westminster</td>\n      <td>Westbourne</td>\n      <td>XQ59CD</td>\n      <td>1</td>\n      <td>0</td>\n      <td>0.0</td>\n      <td>0.0</td>\n    </tr>\n  </tbody>\n</table>\n<p>4388 rows × 8 columns</p>\n</div>"
     },
     "execution_count": 20,
     "metadata": {},
     "output_type": "execute_result"
    }
   ],
   "execution_count": 20
  },
  {
   "metadata": {},
   "cell_type": "markdown",
   "source": [
    "### 2022/2023\n",
    "\n",
    "**NOTE:** This specific year does not have BQ90D(A). Only this question was available for underreporting:\n",
    "\n",
    "- **NQ1I: To what extent do you agree or disagree with the following statements: I would report a rape to the police if it happened to me.**\n",
    "\n",
    "__Extra:__\n",
    "- NQ1A: To what extent do you agree or disagree with the following statements: The police take reports of rape seriously.\n",
    "- Q201H: To what extent do you agree or disagree with the following statements: The police treat men who report that they have been raped in the same way as they would treat a female complainant.\n",
    "\n"
   ],
   "id": "37b760b52608dc7a"
  },
  {
   "metadata": {
    "ExecuteTime": {
     "end_time": "2024-06-07T13:49:30.494552Z",
     "start_time": "2024-06-07T13:49:30.478483Z"
    }
   },
   "cell_type": "code",
   "source": [
    "# Final underreporting dataframe\n",
    "df_fin = pd.concat([df2, df3, df4], ignore_index=True)\n",
    "print(df_fin)\n",
    "\n",
    "df_fin.to_pickle(r\"data/PAS_underreporting.pkl\")"
   ],
   "id": "7ec7981dfd052d99",
   "outputs": [
    {
     "name": "stdout",
     "output_type": "stream",
     "text": [
      "       Year-Month               Borough                       ward_n Question  \\\n",
      "0      2015-04-01  Barking and Dagenham                    Becontree    BQ90D   \n",
      "1      2015-04-01  Barking and Dagenham                     Eastbury    BQ90D   \n",
      "2      2015-04-01  Barking and Dagenham                        Heath    BQ90D   \n",
      "3      2015-04-01  Barking and Dagenham                     Parsloes    BQ90D   \n",
      "4      2015-04-01                Barnet                    Burnt Oak    BQ90D   \n",
      "...           ...                   ...                          ...      ...   \n",
      "11244  2020-03-01           Westminster                  Harrow Road   XQ59CD   \n",
      "11245  2020-03-01           Westminster  Knightsbridge and Belgravia   XQ59CD   \n",
      "11246  2020-03-01           Westminster               Lancaster Gate   XQ59CD   \n",
      "11247  2020-03-01           Westminster                      Warwick   XQ59CD   \n",
      "11248  2020-03-01           Westminster                   Westbourne   XQ59CD   \n",
      "\n",
      "       total_count  no_count  Proportion_no  Total_prop_no  \n",
      "0                1         0            0.0        0.00000  \n",
      "1                1         0            0.0        0.00000  \n",
      "2                2         1            0.5        0.00011  \n",
      "3                2         0            0.0        0.00000  \n",
      "4                1         0            0.0        0.00000  \n",
      "...            ...       ...            ...            ...  \n",
      "11244            8         0            0.0        0.00000  \n",
      "11245            2         0            0.0        0.00000  \n",
      "11246            1         0            0.0        0.00000  \n",
      "11247            2         0            0.0        0.00000  \n",
      "11248            1         0            0.0        0.00000  \n",
      "\n",
      "[11249 rows x 8 columns]\n"
     ]
    }
   ],
   "execution_count": 21
  },
  {
   "metadata": {},
   "cell_type": "markdown",
   "source": [],
   "id": "7b0b09ee240b3a51"
  }
 ],
 "metadata": {
  "kernelspec": {
   "display_name": "Python 3",
   "language": "python",
   "name": "python3"
  },
  "language_info": {
   "codemirror_mode": {
    "name": "ipython",
    "version": 2
   },
   "file_extension": ".py",
   "mimetype": "text/x-python",
   "name": "python",
   "nbconvert_exporter": "python",
   "pygments_lexer": "ipython2",
   "version": "2.7.6"
  }
 },
 "nbformat": 4,
 "nbformat_minor": 5
}
