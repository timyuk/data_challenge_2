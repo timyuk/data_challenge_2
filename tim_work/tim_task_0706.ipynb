{
 "cells": [
  {
   "cell_type": "code",
   "execution_count": 1,
   "metadata": {
    "collapsed": true
   },
   "outputs": [],
   "source": [
    "import pandas as pd\n",
    "import json\n",
    "import requests\n",
    "import matplotlib.pyplot as plt\n",
    "import seaborn as sns\n",
    "import numpy as np\n",
    "\n"
   ]
  },
  {
   "cell_type": "code",
   "execution_count": 13,
   "outputs": [],
   "source": [
    "#skip this here a have a more fancy file further\n",
    "PAS_detailed = pd.read_pickle('PAS_detailed2_fixed_borough.pkl')\n"
   ],
   "metadata": {
    "collapsed": false
   }
  },
  {
   "cell_type": "code",
   "execution_count": 5,
   "outputs": [
    {
     "data": {
      "text/plain": "            ward                  ward_n       SOA1       SOA2  NQ1 NQ2A NQ2B  \\\n0      E05009388                Abingdon  E01002812  E02000589  NaN  NaN  NaN   \n1      E05009388                Abingdon  E01002812  E02000589  NaN  NaN  NaN   \n2      E05009401            Queen's Gate  E01002888  E02000589  NaN  NaN  NaN   \n3      E05009401            Queen's Gate  E01002888  E02000589  NaN  NaN  NaN   \n4      E05009403          Royal Hospital  E01002901  E02000594  NaN  NaN  NaN   \n...          ...                     ...        ...        ...  ...  ...  ...   \n76393  E05009400               Pembridge        NaN        NaN  NaN  NaN  NaN   \n76394  E05009396                Golborne        NaN        NaN  NaN  NaN  NaN   \n76395  E05000492  Stratford and New Town        NaN        NaN  NaN  NaN  NaN   \n76396  E05009404             St. Helen's        NaN        NaN  NaN  NaN  NaN   \n76397  E05000322        Squirrel's Heath        NaN        NaN  NaN  NaN  NaN   \n\n      NQ2C NQ2D NQ2E  ... NQCV18 NQCV29 Q143D IMDQuartile ReXQ135    ReQ136  \\\n0      NaN  NaN  NaN  ...    NaN    NaN   NaN         NaN     NaN       NaN   \n1      NaN  NaN  NaN  ...    NaN    NaN   NaN         NaN     NaN       NaN   \n2      NaN  NaN  NaN  ...    NaN    NaN   NaN         NaN     NaN       NaN   \n3      NaN  NaN  NaN  ...    NaN    NaN   NaN         NaN     NaN       NaN   \n4      NaN  NaN  NaN  ...    NaN    NaN   NaN         NaN     NaN       NaN   \n...    ...  ...  ...  ...    ...    ...   ...         ...     ...       ...   \n76393  NaN  NaN  NaN  ...    NaN    NaN    No         4.0    Male  35 to 44   \n76394  NaN  NaN  NaN  ...    NaN    NaN    No         1.0  Female  25 to 34   \n76395  NaN  NaN  NaN  ...    NaN    NaN    No         2.0  Female  35 to 44   \n76396  NaN  NaN  NaN  ...    NaN    NaN   NaN         1.0  Female  45 to 54   \n76397  NaN  NaN  NaN  ...    NaN    NaN    No         4.0  Female  25 to 34   \n\n      ReNQ147        ReQ150                          ReQ139 Year-Month  \n0         NaN           NaN                             NaN 2015-04-01  \n1         NaN           NaN                             NaN 2015-04-01  \n2         NaN           NaN                             NaN 2015-04-01  \n3         NaN           NaN                             NaN 2015-04-01  \n4         NaN           NaN                             NaN 2015-05-01  \n...       ...           ...                             ...        ...  \n76393   Other  Heterosexual  Full time (31+ hours per week) 2021-03-01  \n76394   Black  Heterosexual  Full time (31+ hours per week) 2021-03-01  \n76395   Black  Heterosexual  Full time (31+ hours per week) 2021-03-01  \n76396   Mixed  Heterosexual  Full time (31+ hours per week) 2021-03-01  \n76397   Asian  Heterosexual                    House person 2021-03-01  \n\n[76398 rows x 635 columns]",
      "text/html": "<div>\n<style scoped>\n    .dataframe tbody tr th:only-of-type {\n        vertical-align: middle;\n    }\n\n    .dataframe tbody tr th {\n        vertical-align: top;\n    }\n\n    .dataframe thead th {\n        text-align: right;\n    }\n</style>\n<table border=\"1\" class=\"dataframe\">\n  <thead>\n    <tr style=\"text-align: right;\">\n      <th></th>\n      <th>ward</th>\n      <th>ward_n</th>\n      <th>SOA1</th>\n      <th>SOA2</th>\n      <th>NQ1</th>\n      <th>NQ2A</th>\n      <th>NQ2B</th>\n      <th>NQ2C</th>\n      <th>NQ2D</th>\n      <th>NQ2E</th>\n      <th>...</th>\n      <th>NQCV18</th>\n      <th>NQCV29</th>\n      <th>Q143D</th>\n      <th>IMDQuartile</th>\n      <th>ReXQ135</th>\n      <th>ReQ136</th>\n      <th>ReNQ147</th>\n      <th>ReQ150</th>\n      <th>ReQ139</th>\n      <th>Year-Month</th>\n    </tr>\n  </thead>\n  <tbody>\n    <tr>\n      <th>0</th>\n      <td>E05009388</td>\n      <td>Abingdon</td>\n      <td>E01002812</td>\n      <td>E02000589</td>\n      <td>NaN</td>\n      <td>NaN</td>\n      <td>NaN</td>\n      <td>NaN</td>\n      <td>NaN</td>\n      <td>NaN</td>\n      <td>...</td>\n      <td>NaN</td>\n      <td>NaN</td>\n      <td>NaN</td>\n      <td>NaN</td>\n      <td>NaN</td>\n      <td>NaN</td>\n      <td>NaN</td>\n      <td>NaN</td>\n      <td>NaN</td>\n      <td>2015-04-01</td>\n    </tr>\n    <tr>\n      <th>1</th>\n      <td>E05009388</td>\n      <td>Abingdon</td>\n      <td>E01002812</td>\n      <td>E02000589</td>\n      <td>NaN</td>\n      <td>NaN</td>\n      <td>NaN</td>\n      <td>NaN</td>\n      <td>NaN</td>\n      <td>NaN</td>\n      <td>...</td>\n      <td>NaN</td>\n      <td>NaN</td>\n      <td>NaN</td>\n      <td>NaN</td>\n      <td>NaN</td>\n      <td>NaN</td>\n      <td>NaN</td>\n      <td>NaN</td>\n      <td>NaN</td>\n      <td>2015-04-01</td>\n    </tr>\n    <tr>\n      <th>2</th>\n      <td>E05009401</td>\n      <td>Queen's Gate</td>\n      <td>E01002888</td>\n      <td>E02000589</td>\n      <td>NaN</td>\n      <td>NaN</td>\n      <td>NaN</td>\n      <td>NaN</td>\n      <td>NaN</td>\n      <td>NaN</td>\n      <td>...</td>\n      <td>NaN</td>\n      <td>NaN</td>\n      <td>NaN</td>\n      <td>NaN</td>\n      <td>NaN</td>\n      <td>NaN</td>\n      <td>NaN</td>\n      <td>NaN</td>\n      <td>NaN</td>\n      <td>2015-04-01</td>\n    </tr>\n    <tr>\n      <th>3</th>\n      <td>E05009401</td>\n      <td>Queen's Gate</td>\n      <td>E01002888</td>\n      <td>E02000589</td>\n      <td>NaN</td>\n      <td>NaN</td>\n      <td>NaN</td>\n      <td>NaN</td>\n      <td>NaN</td>\n      <td>NaN</td>\n      <td>...</td>\n      <td>NaN</td>\n      <td>NaN</td>\n      <td>NaN</td>\n      <td>NaN</td>\n      <td>NaN</td>\n      <td>NaN</td>\n      <td>NaN</td>\n      <td>NaN</td>\n      <td>NaN</td>\n      <td>2015-04-01</td>\n    </tr>\n    <tr>\n      <th>4</th>\n      <td>E05009403</td>\n      <td>Royal Hospital</td>\n      <td>E01002901</td>\n      <td>E02000594</td>\n      <td>NaN</td>\n      <td>NaN</td>\n      <td>NaN</td>\n      <td>NaN</td>\n      <td>NaN</td>\n      <td>NaN</td>\n      <td>...</td>\n      <td>NaN</td>\n      <td>NaN</td>\n      <td>NaN</td>\n      <td>NaN</td>\n      <td>NaN</td>\n      <td>NaN</td>\n      <td>NaN</td>\n      <td>NaN</td>\n      <td>NaN</td>\n      <td>2015-05-01</td>\n    </tr>\n    <tr>\n      <th>...</th>\n      <td>...</td>\n      <td>...</td>\n      <td>...</td>\n      <td>...</td>\n      <td>...</td>\n      <td>...</td>\n      <td>...</td>\n      <td>...</td>\n      <td>...</td>\n      <td>...</td>\n      <td>...</td>\n      <td>...</td>\n      <td>...</td>\n      <td>...</td>\n      <td>...</td>\n      <td>...</td>\n      <td>...</td>\n      <td>...</td>\n      <td>...</td>\n      <td>...</td>\n      <td>...</td>\n    </tr>\n    <tr>\n      <th>76393</th>\n      <td>E05009400</td>\n      <td>Pembridge</td>\n      <td>NaN</td>\n      <td>NaN</td>\n      <td>NaN</td>\n      <td>NaN</td>\n      <td>NaN</td>\n      <td>NaN</td>\n      <td>NaN</td>\n      <td>NaN</td>\n      <td>...</td>\n      <td>NaN</td>\n      <td>NaN</td>\n      <td>No</td>\n      <td>4.0</td>\n      <td>Male</td>\n      <td>35 to 44</td>\n      <td>Other</td>\n      <td>Heterosexual</td>\n      <td>Full time (31+ hours per week)</td>\n      <td>2021-03-01</td>\n    </tr>\n    <tr>\n      <th>76394</th>\n      <td>E05009396</td>\n      <td>Golborne</td>\n      <td>NaN</td>\n      <td>NaN</td>\n      <td>NaN</td>\n      <td>NaN</td>\n      <td>NaN</td>\n      <td>NaN</td>\n      <td>NaN</td>\n      <td>NaN</td>\n      <td>...</td>\n      <td>NaN</td>\n      <td>NaN</td>\n      <td>No</td>\n      <td>1.0</td>\n      <td>Female</td>\n      <td>25 to 34</td>\n      <td>Black</td>\n      <td>Heterosexual</td>\n      <td>Full time (31+ hours per week)</td>\n      <td>2021-03-01</td>\n    </tr>\n    <tr>\n      <th>76395</th>\n      <td>E05000492</td>\n      <td>Stratford and New Town</td>\n      <td>NaN</td>\n      <td>NaN</td>\n      <td>NaN</td>\n      <td>NaN</td>\n      <td>NaN</td>\n      <td>NaN</td>\n      <td>NaN</td>\n      <td>NaN</td>\n      <td>...</td>\n      <td>NaN</td>\n      <td>NaN</td>\n      <td>No</td>\n      <td>2.0</td>\n      <td>Female</td>\n      <td>35 to 44</td>\n      <td>Black</td>\n      <td>Heterosexual</td>\n      <td>Full time (31+ hours per week)</td>\n      <td>2021-03-01</td>\n    </tr>\n    <tr>\n      <th>76396</th>\n      <td>E05009404</td>\n      <td>St. Helen's</td>\n      <td>NaN</td>\n      <td>NaN</td>\n      <td>NaN</td>\n      <td>NaN</td>\n      <td>NaN</td>\n      <td>NaN</td>\n      <td>NaN</td>\n      <td>NaN</td>\n      <td>...</td>\n      <td>NaN</td>\n      <td>NaN</td>\n      <td>NaN</td>\n      <td>1.0</td>\n      <td>Female</td>\n      <td>45 to 54</td>\n      <td>Mixed</td>\n      <td>Heterosexual</td>\n      <td>Full time (31+ hours per week)</td>\n      <td>2021-03-01</td>\n    </tr>\n    <tr>\n      <th>76397</th>\n      <td>E05000322</td>\n      <td>Squirrel's Heath</td>\n      <td>NaN</td>\n      <td>NaN</td>\n      <td>NaN</td>\n      <td>NaN</td>\n      <td>NaN</td>\n      <td>NaN</td>\n      <td>NaN</td>\n      <td>NaN</td>\n      <td>...</td>\n      <td>NaN</td>\n      <td>NaN</td>\n      <td>No</td>\n      <td>4.0</td>\n      <td>Female</td>\n      <td>25 to 34</td>\n      <td>Asian</td>\n      <td>Heterosexual</td>\n      <td>House person</td>\n      <td>2021-03-01</td>\n    </tr>\n  </tbody>\n</table>\n<p>76398 rows × 635 columns</p>\n</div>"
     },
     "execution_count": 5,
     "metadata": {},
     "output_type": "execute_result"
    }
   ],
   "source": [
    "PAS_detailed"
   ],
   "metadata": {
    "collapsed": false
   }
  },
  {
   "cell_type": "code",
   "execution_count": 6,
   "outputs": [
    {
     "name": "stdout",
     "output_type": "stream",
     "text": [
      "0\n",
      "1\n",
      "2\n",
      "3\n",
      "4\n",
      "5\n",
      "6\n",
      "7\n",
      "8\n",
      "9\n",
      "10\n",
      "11\n",
      "12\n",
      "13\n",
      "14\n",
      "15\n",
      "16\n",
      "17\n",
      "18\n",
      "19\n",
      "20\n",
      "21\n",
      "22\n",
      "23\n",
      "24\n",
      "25\n",
      "26\n",
      "27\n",
      "28\n",
      "29\n",
      "30\n",
      "31\n",
      "32\n",
      "33\n",
      "34\n",
      "35\n",
      "36\n",
      "37\n",
      "38\n",
      "39\n",
      "40\n",
      "41\n",
      "42\n",
      "43\n",
      "44\n",
      "45\n",
      "46\n",
      "47\n",
      "48\n",
      "49\n",
      "50\n",
      "51\n",
      "52\n",
      "53\n",
      "54\n",
      "55\n",
      "56\n",
      "57\n",
      "58\n",
      "59\n",
      "60\n",
      "61\n",
      "62\n",
      "63\n",
      "64\n",
      "65\n",
      "66\n",
      "67\n",
      "68\n",
      "69\n",
      "70\n",
      "71\n",
      "72\n",
      "73\n",
      "74\n",
      "75\n",
      "76\n",
      "77\n",
      "78\n",
      "79\n",
      "80\n",
      "81\n",
      "82\n",
      "83\n",
      "84\n",
      "85\n",
      "86\n",
      "87\n",
      "88\n",
      "89\n",
      "90\n",
      "91\n",
      "92\n",
      "93\n",
      "94\n",
      "95\n",
      "96\n",
      "97\n",
      "98\n",
      "99\n",
      "100\n",
      "101\n",
      "102\n",
      "103\n",
      "104\n",
      "105\n",
      "106\n",
      "107\n",
      "108\n",
      "109\n",
      "110\n",
      "111\n",
      "112\n",
      "113\n",
      "114\n",
      "115\n",
      "116\n",
      "117\n",
      "118\n",
      "119\n",
      "120\n",
      "121\n",
      "122\n",
      "123\n",
      "124\n",
      "125\n",
      "126\n",
      "127\n",
      "128\n",
      "129\n",
      "130\n",
      "131\n",
      "132\n",
      "133\n",
      "134\n",
      "135\n",
      "136\n",
      "137\n",
      "138\n",
      "139\n",
      "140\n",
      "141\n",
      "142\n",
      "143\n",
      "144\n",
      "145\n",
      "146\n",
      "147\n",
      "148\n",
      "149\n",
      "150\n",
      "151\n",
      "152\n",
      "153\n",
      "154\n",
      "155\n",
      "156\n",
      "157\n",
      "158\n",
      "159\n",
      "160\n",
      "161\n",
      "162\n",
      "163\n",
      "164\n",
      "165\n",
      "166\n",
      "167\n",
      "168\n",
      "169\n",
      "170\n",
      "171\n",
      "172\n",
      "173\n",
      "174\n",
      "175\n",
      "176\n",
      "177\n",
      "178\n",
      "179\n",
      "180\n",
      "181\n",
      "182\n",
      "183\n",
      "184\n",
      "185\n",
      "186\n",
      "187\n",
      "188\n",
      "189\n",
      "190\n",
      "191\n",
      "192\n",
      "193\n",
      "194\n",
      "195\n",
      "196\n",
      "197\n",
      "198\n",
      "199\n",
      "200\n",
      "201\n",
      "202\n",
      "203\n",
      "204\n",
      "205\n",
      "206\n",
      "207\n",
      "208\n",
      "209\n",
      "210\n",
      "211\n",
      "212\n",
      "213\n",
      "214\n",
      "215\n",
      "216\n",
      "217\n",
      "218\n",
      "219\n",
      "220\n",
      "221\n",
      "222\n",
      "223\n",
      "224\n",
      "225\n",
      "226\n",
      "227\n",
      "228\n",
      "229\n",
      "230\n",
      "231\n",
      "232\n",
      "233\n",
      "234\n",
      "235\n",
      "236\n",
      "237\n",
      "238\n",
      "239\n",
      "240\n",
      "241\n",
      "242\n",
      "243\n",
      "244\n",
      "245\n",
      "246\n",
      "247\n",
      "248\n",
      "249\n",
      "250\n",
      "251\n",
      "252\n",
      "253\n",
      "254\n",
      "255\n",
      "256\n",
      "257\n",
      "258\n",
      "259\n",
      "260\n",
      "261\n",
      "262\n",
      "263\n",
      "264\n",
      "265\n",
      "266\n",
      "267\n",
      "268\n",
      "269\n",
      "270\n",
      "271\n",
      "272\n",
      "273\n",
      "274\n",
      "275\n",
      "276\n",
      "277\n",
      "278\n",
      "279\n",
      "280\n",
      "281\n",
      "282\n",
      "283\n",
      "284\n",
      "285\n",
      "286\n",
      "287\n",
      "288\n",
      "289\n",
      "290\n",
      "291\n",
      "292\n",
      "293\n",
      "294\n",
      "295\n",
      "296\n",
      "297\n",
      "298\n",
      "299\n",
      "300\n",
      "301\n",
      "302\n",
      "303\n",
      "304\n",
      "305\n",
      "306\n",
      "307\n",
      "308\n",
      "309\n",
      "310\n",
      "311\n",
      "312\n",
      "313\n",
      "314\n",
      "315\n",
      "316\n",
      "317\n",
      "318\n",
      "319\n",
      "320\n",
      "321\n",
      "322\n",
      "323\n",
      "324\n",
      "325\n",
      "326\n",
      "327\n",
      "328\n",
      "329\n",
      "330\n",
      "331\n",
      "332\n",
      "333\n",
      "334\n",
      "335\n",
      "336\n",
      "337\n",
      "338\n",
      "339\n",
      "340\n",
      "341\n",
      "342\n",
      "343\n",
      "344\n",
      "345\n",
      "346\n",
      "347\n",
      "348\n",
      "349\n",
      "350\n",
      "351\n",
      "352\n",
      "353\n",
      "354\n",
      "355\n",
      "356\n",
      "357\n",
      "358\n",
      "359\n",
      "360\n",
      "361\n",
      "362\n",
      "363\n",
      "364\n",
      "365\n",
      "366\n",
      "367\n",
      "368\n",
      "369\n",
      "370\n",
      "371\n",
      "372\n",
      "373\n",
      "374\n",
      "375\n",
      "376\n",
      "377\n",
      "378\n",
      "379\n",
      "380\n",
      "381\n",
      "382\n",
      "383\n",
      "384\n",
      "385\n",
      "386\n",
      "387\n",
      "388\n",
      "389\n",
      "390\n",
      "391\n",
      "392\n",
      "393\n",
      "394\n",
      "395\n",
      "396\n",
      "397\n",
      "398\n",
      "399\n",
      "400\n",
      "401\n",
      "402\n",
      "403\n",
      "404\n",
      "405\n",
      "406\n",
      "407\n",
      "408\n",
      "409\n",
      "410\n",
      "411\n",
      "412\n",
      "413\n",
      "414\n",
      "415\n",
      "416\n",
      "417\n",
      "418\n",
      "419\n",
      "420\n",
      "421\n",
      "422\n",
      "423\n",
      "424\n",
      "425\n",
      "426\n",
      "427\n",
      "428\n",
      "429\n",
      "430\n",
      "431\n",
      "432\n",
      "433\n",
      "434\n",
      "435\n",
      "436\n",
      "437\n",
      "438\n",
      "439\n",
      "440\n",
      "441\n",
      "442\n",
      "443\n",
      "444\n",
      "445\n",
      "446\n",
      "447\n",
      "448\n",
      "449\n",
      "450\n",
      "451\n",
      "452\n",
      "453\n",
      "454\n",
      "455\n",
      "456\n",
      "457\n",
      "458\n",
      "459\n",
      "460\n",
      "461\n",
      "462\n",
      "463\n",
      "464\n",
      "465\n",
      "466\n",
      "467\n",
      "468\n",
      "469\n",
      "470\n",
      "471\n",
      "472\n",
      "473\n",
      "474\n",
      "475\n",
      "476\n",
      "477\n",
      "478\n",
      "479\n",
      "480\n",
      "481\n",
      "482\n",
      "483\n",
      "484\n",
      "485\n",
      "486\n",
      "487\n",
      "488\n",
      "489\n",
      "490\n",
      "491\n",
      "492\n",
      "493\n",
      "494\n",
      "495\n",
      "496\n",
      "497\n",
      "498\n",
      "499\n",
      "500\n",
      "501\n",
      "502\n",
      "503\n",
      "504\n",
      "505\n",
      "506\n",
      "507\n",
      "508\n",
      "509\n",
      "510\n",
      "511\n",
      "512\n",
      "513\n",
      "514\n",
      "515\n",
      "516\n",
      "517\n",
      "518\n",
      "519\n",
      "520\n",
      "521\n",
      "522\n",
      "523\n",
      "524\n",
      "525\n",
      "526\n",
      "527\n",
      "528\n",
      "529\n",
      "530\n",
      "531\n",
      "532\n",
      "533\n",
      "534\n",
      "535\n",
      "536\n",
      "537\n",
      "538\n",
      "539\n",
      "540\n",
      "541\n",
      "542\n",
      "543\n",
      "544\n",
      "545\n",
      "546\n",
      "547\n",
      "548\n",
      "549\n",
      "550\n",
      "551\n",
      "552\n",
      "553\n",
      "554\n",
      "555\n",
      "556\n",
      "557\n",
      "558\n",
      "559\n",
      "560\n",
      "561\n",
      "562\n",
      "563\n",
      "564\n",
      "565\n",
      "566\n",
      "567\n",
      "568\n",
      "569\n",
      "570\n",
      "571\n",
      "572\n",
      "573\n",
      "574\n",
      "575\n",
      "576\n",
      "577\n",
      "578\n",
      "579\n",
      "580\n",
      "581\n",
      "582\n",
      "583\n",
      "584\n",
      "585\n",
      "586\n",
      "587\n",
      "588\n",
      "589\n",
      "590\n",
      "591\n",
      "592\n",
      "593\n",
      "594\n",
      "595\n",
      "596\n",
      "597\n",
      "598\n",
      "599\n",
      "600\n",
      "601\n",
      "602\n",
      "603\n",
      "604\n",
      "605\n",
      "606\n",
      "607\n",
      "608\n",
      "609\n",
      "610\n",
      "611\n",
      "612\n",
      "613\n",
      "614\n",
      "615\n",
      "616\n",
      "617\n",
      "618\n",
      "619\n",
      "620\n",
      "621\n",
      "622\n",
      "623\n",
      "624\n",
      "625\n",
      "626\n",
      "627\n",
      "628\n",
      "629\n",
      "630\n",
      "631\n",
      "632\n",
      "633\n",
      "634\n",
      "635\n",
      "636\n",
      "637\n",
      "638\n",
      "639\n",
      "640\n",
      "641\n",
      "642\n",
      "643\n",
      "644\n",
      "645\n",
      "646\n",
      "647\n",
      "648\n",
      "649\n",
      "650\n",
      "651\n",
      "652\n",
      "653\n",
      "654\n",
      "655\n",
      "656\n",
      "657\n",
      "658\n",
      "659\n",
      "660\n",
      "661\n",
      "662\n",
      "663\n",
      "664\n",
      "665\n",
      "666\n",
      "667\n",
      "668\n",
      "669\n",
      "670\n",
      "671\n",
      "672\n",
      "673\n",
      "674\n",
      "675\n",
      "676\n",
      "677\n",
      "678\n",
      "679\n",
      "680\n",
      "681\n",
      "682\n",
      "683\n",
      "684\n",
      "685\n",
      "686\n",
      "687\n",
      "688\n",
      "689\n",
      "690\n",
      "691\n",
      "692\n",
      "693\n",
      "694\n",
      "695\n",
      "696\n",
      "697\n",
      "698\n",
      "699\n",
      "700\n",
      "701\n",
      "702\n",
      "703\n",
      "704\n",
      "705\n",
      "706\n",
      "707\n",
      "708\n",
      "709\n",
      "710\n",
      "711\n",
      "712\n",
      "713\n",
      "714\n",
      "715\n",
      "716\n",
      "717\n",
      "718\n"
     ]
    }
   ],
   "source": [
    "#fixing borough\n",
    "ward_borough_old = {}\n",
    "for i, ward in enumerate(PAS_detailed['ward'].unique().tolist()):\n",
    "    print(i)\n",
    "    borough = requests.get(f'https://findthatpostcode.uk/areas/{ward}.json').json()['data']['attributes']['parent']\n",
    "    ward_borough_old[ward] = borough\n",
    "PAS_detailed['Borough'] = PAS_detailed['ward'].apply(lambda x: ward_borough_old[x])\n",
    "PAS_detailed.to_pickle('PAS_detailed2_fixed_borough.pkl')"
   ],
   "metadata": {
    "collapsed": false
   }
  },
  {
   "cell_type": "code",
   "execution_count": 42,
   "outputs": [
    {
     "name": "stdout",
     "output_type": "stream",
     "text": [
      "0\n",
      "1\n",
      "2\n",
      "3\n",
      "4\n",
      "5\n",
      "6\n",
      "7\n",
      "8\n",
      "9\n",
      "10\n",
      "11\n",
      "12\n",
      "13\n",
      "14\n",
      "15\n",
      "16\n",
      "17\n",
      "18\n",
      "19\n",
      "20\n",
      "21\n",
      "22\n",
      "23\n",
      "24\n",
      "25\n",
      "26\n",
      "27\n",
      "28\n",
      "29\n",
      "30\n",
      "31\n"
     ]
    }
   ],
   "source": [
    "borough_name = {}\n",
    "for i, borough in enumerate(PAS_detailed['Borough'].unique().tolist()):\n",
    "    print(i)\n",
    "    borough_name = requests.get(f'https://findthatpostcode.uk/areas/{borough}.json').json()['data']['attributes']['name']\n",
    "    ward_borough_old[borough] = borough_name\n",
    "PAS_detailed['Borough name'] = PAS_detailed['Borough'].apply(lambda x: ward_borough_old[x])\n",
    "PAS_detailed.to_pickle('PAS_detailed2_fixed_borough.pkl')"
   ],
   "metadata": {
    "collapsed": false
   }
  },
  {
   "cell_type": "code",
   "execution_count": 78,
   "outputs": [],
   "source": [
    "PAS_detailed = PAS_detailed.replace({\"SQ109CAA\":{'Residents Association': np.nan, 'Other': np.nan}})\n",
    "PAS_detailed[\"Year\"] = PAS_detailed['Year-Month'].apply(lambda x: pd.to_datetime(x).year)\n",
    "PAS_detailed[\"Month\"] = PAS_detailed['Year-Month'].apply(lambda x: pd.to_datetime(x).month)\n"
   ],
   "metadata": {
    "collapsed": false
   }
  },
  {
   "cell_type": "code",
   "execution_count": 88,
   "outputs": [],
   "source": [
    "important_cols = [\"Year-Month\", \"Year\",\"Month\", \"ward_n\", \"ward\", \"Borough\", \"Borough name\"]"
   ],
   "metadata": {
    "collapsed": false
   }
  },
  {
   "cell_type": "code",
   "execution_count": 89,
   "outputs": [],
   "source": [
    "df_1519 = PAS_detailed[important_cols + [\"BQ90D\", \"BQ90B\", \"BQ90C\", \"SQ109CAA\", 'NQ135BD', 'Q60']][~(PAS_detailed[\"BQ90D\"].isna())&(PAS_detailed[\"BQ90B\"].isin(['In local area', 'Elsewhere in London']))].copy()\n",
    "df_1519.loc[(df_1519['BQ90D'] == 'Yes')&(df_1519['SQ109CAA'].isna()), 'BQ90D'] = 'No'\n",
    "df_1519['Reported'] = df_1519['BQ90D']\n",
    "df_1519['Crime type'] = df_1519['BQ90C']\n",
    "df_1519['Trust'] = df_1519['NQ135BD']\n",
    "df_1519['Confidence'] = df_1519['Q60']\n",
    "df_1519 = df_1519[important_cols + [\"Reported\", \"Crime type\", \"Trust\", \"Confidence\"]]\n",
    "df_1519 = df_1519[~(df_1519['Crime type'].isna())&~(df_1519['Trust'].isna())&~(df_1519['Confidence'].isna())]\n"
   ],
   "metadata": {
    "collapsed": false
   }
  },
  {
   "cell_type": "code",
   "execution_count": 90,
   "outputs": [
    {
     "data": {
      "text/plain": "      Year-Month  Year  Month                ward_n       ward    Borough  \\\n4     2015-05-01  2015      5        Royal Hospital  E05009403  E09000020   \n21    2015-06-01  2015      6            Courtfield  E05009393  E09000020   \n32    2015-04-01  2015      4               Holland  E05009397  E09000020   \n59    2015-04-01  2015      4  Brompton & Hans Town  E05009389  E09000020   \n61    2015-05-01  2015      5  Brompton & Hans Town  E05009389  E09000020   \n...          ...   ...    ...                   ...        ...        ...   \n51257 2019-02-01  2019      2             St Helier  E05000562  E09000029   \n51261 2019-02-01  2019      2             St Helier  E05000562  E09000029   \n51264 2019-03-01  2019      3      Beddington South  E05000556  E09000029   \n51265 2019-03-01  2019      3      Wallington South  E05000570  E09000029   \n51289 2019-03-01  2019      3            The Wrythe  E05000568  E09000029   \n\n                 Borough name Reported             Crime type  \\\n4      Kensington and Chelsea      Yes         Property crime   \n21     Kensington and Chelsea       No  Anti-Social Behaviour   \n32     Kensington and Chelsea      Yes                  Other   \n59     Kensington and Chelsea      Yes         Property crime   \n61     Kensington and Chelsea       No  Anti-Social Behaviour   \n...                       ...      ...                    ...   \n51257                  Sutton      Yes          Violent crime   \n51261                  Sutton       No         Property crime   \n51264                  Sutton      Yes         Property crime   \n51265                  Sutton      Yes                  Other   \n51289                  Sutton      Yes         Property crime   \n\n                            Trust Confidence  \n4                  Strongly agree       Good  \n21                 Strongly agree  Excellent  \n32                  Tend to agree       Fair  \n59                  Tend to agree  Very poor  \n61     Neither agree nor disagree       Good  \n...                           ...        ...  \n51257            Tend to disagree  Very poor  \n51261               Tend to agree       Poor  \n51264              Strongly agree       Good  \n51265           Strongly disagree       Poor  \n51289               Tend to agree       Poor  \n\n[4956 rows x 11 columns]",
      "text/html": "<div>\n<style scoped>\n    .dataframe tbody tr th:only-of-type {\n        vertical-align: middle;\n    }\n\n    .dataframe tbody tr th {\n        vertical-align: top;\n    }\n\n    .dataframe thead th {\n        text-align: right;\n    }\n</style>\n<table border=\"1\" class=\"dataframe\">\n  <thead>\n    <tr style=\"text-align: right;\">\n      <th></th>\n      <th>Year-Month</th>\n      <th>Year</th>\n      <th>Month</th>\n      <th>ward_n</th>\n      <th>ward</th>\n      <th>Borough</th>\n      <th>Borough name</th>\n      <th>Reported</th>\n      <th>Crime type</th>\n      <th>Trust</th>\n      <th>Confidence</th>\n    </tr>\n  </thead>\n  <tbody>\n    <tr>\n      <th>4</th>\n      <td>2015-05-01</td>\n      <td>2015</td>\n      <td>5</td>\n      <td>Royal Hospital</td>\n      <td>E05009403</td>\n      <td>E09000020</td>\n      <td>Kensington and Chelsea</td>\n      <td>Yes</td>\n      <td>Property crime</td>\n      <td>Strongly agree</td>\n      <td>Good</td>\n    </tr>\n    <tr>\n      <th>21</th>\n      <td>2015-06-01</td>\n      <td>2015</td>\n      <td>6</td>\n      <td>Courtfield</td>\n      <td>E05009393</td>\n      <td>E09000020</td>\n      <td>Kensington and Chelsea</td>\n      <td>No</td>\n      <td>Anti-Social Behaviour</td>\n      <td>Strongly agree</td>\n      <td>Excellent</td>\n    </tr>\n    <tr>\n      <th>32</th>\n      <td>2015-04-01</td>\n      <td>2015</td>\n      <td>4</td>\n      <td>Holland</td>\n      <td>E05009397</td>\n      <td>E09000020</td>\n      <td>Kensington and Chelsea</td>\n      <td>Yes</td>\n      <td>Other</td>\n      <td>Tend to agree</td>\n      <td>Fair</td>\n    </tr>\n    <tr>\n      <th>59</th>\n      <td>2015-04-01</td>\n      <td>2015</td>\n      <td>4</td>\n      <td>Brompton &amp; Hans Town</td>\n      <td>E05009389</td>\n      <td>E09000020</td>\n      <td>Kensington and Chelsea</td>\n      <td>Yes</td>\n      <td>Property crime</td>\n      <td>Tend to agree</td>\n      <td>Very poor</td>\n    </tr>\n    <tr>\n      <th>61</th>\n      <td>2015-05-01</td>\n      <td>2015</td>\n      <td>5</td>\n      <td>Brompton &amp; Hans Town</td>\n      <td>E05009389</td>\n      <td>E09000020</td>\n      <td>Kensington and Chelsea</td>\n      <td>No</td>\n      <td>Anti-Social Behaviour</td>\n      <td>Neither agree nor disagree</td>\n      <td>Good</td>\n    </tr>\n    <tr>\n      <th>...</th>\n      <td>...</td>\n      <td>...</td>\n      <td>...</td>\n      <td>...</td>\n      <td>...</td>\n      <td>...</td>\n      <td>...</td>\n      <td>...</td>\n      <td>...</td>\n      <td>...</td>\n      <td>...</td>\n    </tr>\n    <tr>\n      <th>51257</th>\n      <td>2019-02-01</td>\n      <td>2019</td>\n      <td>2</td>\n      <td>St Helier</td>\n      <td>E05000562</td>\n      <td>E09000029</td>\n      <td>Sutton</td>\n      <td>Yes</td>\n      <td>Violent crime</td>\n      <td>Tend to disagree</td>\n      <td>Very poor</td>\n    </tr>\n    <tr>\n      <th>51261</th>\n      <td>2019-02-01</td>\n      <td>2019</td>\n      <td>2</td>\n      <td>St Helier</td>\n      <td>E05000562</td>\n      <td>E09000029</td>\n      <td>Sutton</td>\n      <td>No</td>\n      <td>Property crime</td>\n      <td>Tend to agree</td>\n      <td>Poor</td>\n    </tr>\n    <tr>\n      <th>51264</th>\n      <td>2019-03-01</td>\n      <td>2019</td>\n      <td>3</td>\n      <td>Beddington South</td>\n      <td>E05000556</td>\n      <td>E09000029</td>\n      <td>Sutton</td>\n      <td>Yes</td>\n      <td>Property crime</td>\n      <td>Strongly agree</td>\n      <td>Good</td>\n    </tr>\n    <tr>\n      <th>51265</th>\n      <td>2019-03-01</td>\n      <td>2019</td>\n      <td>3</td>\n      <td>Wallington South</td>\n      <td>E05000570</td>\n      <td>E09000029</td>\n      <td>Sutton</td>\n      <td>Yes</td>\n      <td>Other</td>\n      <td>Strongly disagree</td>\n      <td>Poor</td>\n    </tr>\n    <tr>\n      <th>51289</th>\n      <td>2019-03-01</td>\n      <td>2019</td>\n      <td>3</td>\n      <td>The Wrythe</td>\n      <td>E05000568</td>\n      <td>E09000029</td>\n      <td>Sutton</td>\n      <td>Yes</td>\n      <td>Property crime</td>\n      <td>Tend to agree</td>\n      <td>Poor</td>\n    </tr>\n  </tbody>\n</table>\n<p>4956 rows × 11 columns</p>\n</div>"
     },
     "execution_count": 90,
     "metadata": {},
     "output_type": "execute_result"
    }
   ],
   "source": [
    "df_1519"
   ],
   "metadata": {
    "collapsed": false
   }
  },
  {
   "cell_type": "code",
   "execution_count": 91,
   "outputs": [],
   "source": [
    "df_1921 = PAS_detailed[important_cols + [\"BQ90DA\", \"BQ90D\", \"BQ90B\", \"BQ90C\", \"SQ109CAA\", 'NQ135BD', 'Q60']][~(PAS_detailed[\"BQ90DA\"].isna())].copy()\n",
    "df_1921['Reported'] = df_1921['BQ90DA']\n",
    "df_1921['Crime type'] = df_1921['BQ90C']\n",
    "df_1921['Trust'] = df_1921['NQ135BD']\n",
    "df_1921['Confidence'] = df_1921['Q60']\n",
    "df_1921 = df_1921[important_cols + [\"Reported\", \"Crime type\", \"Trust\", \"Confidence\"]]\n",
    "df_1921 = df_1921[~(df_1921['Crime type'].isna())&~(df_1921['Trust'].isna())&~(df_1921['Confidence'].isna())]"
   ],
   "metadata": {
    "collapsed": false
   }
  },
  {
   "cell_type": "code",
   "execution_count": 92,
   "outputs": [
    {
     "data": {
      "text/plain": "      Year-Month  Year  Month                ward_n       ward    Borough  \\\n51309 2019-06-01  2019      6              Colville  E05009392  E09000020   \n51320 2019-04-01  2019      4          Notting Dale  E05009399  E09000020   \n51322 2019-04-01  2019      4          Notting Dale  E05009399  E09000020   \n51324 2019-04-01  2019      4          Notting Dale  E05009399  E09000020   \n51349 2019-04-01  2019      4  Brompton & Hans Town  E05009389  E09000020   \n...          ...   ...    ...                   ...        ...        ...   \n76345 2021-03-01  2021      3        Thornton Heath  E05011486  E09000008   \n76350 2021-03-01  2021      3          Churchfields  E05011238  E09000026   \n76351 2021-03-01  2021      3             Larkswood  E05000602  E09000031   \n76358 2021-03-01  2021      3                 River  E05000038  E09000002   \n76396 2021-03-01  2021      3           St. Helen's  E05009404  E09000020   \n\n                 Borough name Reported                Crime type  \\\n51309  Kensington and Chelsea      Yes             Violent crime   \n51320  Kensington and Chelsea      Yes             Violent crime   \n51322  Kensington and Chelsea      Yes                Harassment   \n51324  Kensington and Chelsea      Yes     Anti-Social Behaviour   \n51349  Kensington and Chelsea       No  Credit/debit card fraud    \n...                       ...      ...                       ...   \n76345                 Croydon      Yes            Property crime   \n76350               Redbridge      Yes                Harassment   \n76351          Waltham Forest      Yes     Anti-Social Behaviour   \n76358    Barking and Dagenham      Yes                Harassment   \n76396  Kensington and Chelsea      Yes                     Other   \n\n                   Trust Confidence  \n51309      Tend to agree  Very poor  \n51320     Strongly agree       Fair  \n51322  Strongly disagree  Very poor  \n51324     Strongly agree       Fair  \n51349     Strongly agree       Fair  \n...                  ...        ...  \n76345      Tend to agree  Very poor  \n76350      Tend to agree       Poor  \n76351  Strongly disagree  Very poor  \n76358      Tend to agree       Poor  \n76396     Strongly agree       Good  \n\n[3668 rows x 11 columns]",
      "text/html": "<div>\n<style scoped>\n    .dataframe tbody tr th:only-of-type {\n        vertical-align: middle;\n    }\n\n    .dataframe tbody tr th {\n        vertical-align: top;\n    }\n\n    .dataframe thead th {\n        text-align: right;\n    }\n</style>\n<table border=\"1\" class=\"dataframe\">\n  <thead>\n    <tr style=\"text-align: right;\">\n      <th></th>\n      <th>Year-Month</th>\n      <th>Year</th>\n      <th>Month</th>\n      <th>ward_n</th>\n      <th>ward</th>\n      <th>Borough</th>\n      <th>Borough name</th>\n      <th>Reported</th>\n      <th>Crime type</th>\n      <th>Trust</th>\n      <th>Confidence</th>\n    </tr>\n  </thead>\n  <tbody>\n    <tr>\n      <th>51309</th>\n      <td>2019-06-01</td>\n      <td>2019</td>\n      <td>6</td>\n      <td>Colville</td>\n      <td>E05009392</td>\n      <td>E09000020</td>\n      <td>Kensington and Chelsea</td>\n      <td>Yes</td>\n      <td>Violent crime</td>\n      <td>Tend to agree</td>\n      <td>Very poor</td>\n    </tr>\n    <tr>\n      <th>51320</th>\n      <td>2019-04-01</td>\n      <td>2019</td>\n      <td>4</td>\n      <td>Notting Dale</td>\n      <td>E05009399</td>\n      <td>E09000020</td>\n      <td>Kensington and Chelsea</td>\n      <td>Yes</td>\n      <td>Violent crime</td>\n      <td>Strongly agree</td>\n      <td>Fair</td>\n    </tr>\n    <tr>\n      <th>51322</th>\n      <td>2019-04-01</td>\n      <td>2019</td>\n      <td>4</td>\n      <td>Notting Dale</td>\n      <td>E05009399</td>\n      <td>E09000020</td>\n      <td>Kensington and Chelsea</td>\n      <td>Yes</td>\n      <td>Harassment</td>\n      <td>Strongly disagree</td>\n      <td>Very poor</td>\n    </tr>\n    <tr>\n      <th>51324</th>\n      <td>2019-04-01</td>\n      <td>2019</td>\n      <td>4</td>\n      <td>Notting Dale</td>\n      <td>E05009399</td>\n      <td>E09000020</td>\n      <td>Kensington and Chelsea</td>\n      <td>Yes</td>\n      <td>Anti-Social Behaviour</td>\n      <td>Strongly agree</td>\n      <td>Fair</td>\n    </tr>\n    <tr>\n      <th>51349</th>\n      <td>2019-04-01</td>\n      <td>2019</td>\n      <td>4</td>\n      <td>Brompton &amp; Hans Town</td>\n      <td>E05009389</td>\n      <td>E09000020</td>\n      <td>Kensington and Chelsea</td>\n      <td>No</td>\n      <td>Credit/debit card fraud</td>\n      <td>Strongly agree</td>\n      <td>Fair</td>\n    </tr>\n    <tr>\n      <th>...</th>\n      <td>...</td>\n      <td>...</td>\n      <td>...</td>\n      <td>...</td>\n      <td>...</td>\n      <td>...</td>\n      <td>...</td>\n      <td>...</td>\n      <td>...</td>\n      <td>...</td>\n      <td>...</td>\n    </tr>\n    <tr>\n      <th>76345</th>\n      <td>2021-03-01</td>\n      <td>2021</td>\n      <td>3</td>\n      <td>Thornton Heath</td>\n      <td>E05011486</td>\n      <td>E09000008</td>\n      <td>Croydon</td>\n      <td>Yes</td>\n      <td>Property crime</td>\n      <td>Tend to agree</td>\n      <td>Very poor</td>\n    </tr>\n    <tr>\n      <th>76350</th>\n      <td>2021-03-01</td>\n      <td>2021</td>\n      <td>3</td>\n      <td>Churchfields</td>\n      <td>E05011238</td>\n      <td>E09000026</td>\n      <td>Redbridge</td>\n      <td>Yes</td>\n      <td>Harassment</td>\n      <td>Tend to agree</td>\n      <td>Poor</td>\n    </tr>\n    <tr>\n      <th>76351</th>\n      <td>2021-03-01</td>\n      <td>2021</td>\n      <td>3</td>\n      <td>Larkswood</td>\n      <td>E05000602</td>\n      <td>E09000031</td>\n      <td>Waltham Forest</td>\n      <td>Yes</td>\n      <td>Anti-Social Behaviour</td>\n      <td>Strongly disagree</td>\n      <td>Very poor</td>\n    </tr>\n    <tr>\n      <th>76358</th>\n      <td>2021-03-01</td>\n      <td>2021</td>\n      <td>3</td>\n      <td>River</td>\n      <td>E05000038</td>\n      <td>E09000002</td>\n      <td>Barking and Dagenham</td>\n      <td>Yes</td>\n      <td>Harassment</td>\n      <td>Tend to agree</td>\n      <td>Poor</td>\n    </tr>\n    <tr>\n      <th>76396</th>\n      <td>2021-03-01</td>\n      <td>2021</td>\n      <td>3</td>\n      <td>St. Helen's</td>\n      <td>E05009404</td>\n      <td>E09000020</td>\n      <td>Kensington and Chelsea</td>\n      <td>Yes</td>\n      <td>Other</td>\n      <td>Strongly agree</td>\n      <td>Good</td>\n    </tr>\n  </tbody>\n</table>\n<p>3668 rows × 11 columns</p>\n</div>"
     },
     "execution_count": 92,
     "metadata": {},
     "output_type": "execute_result"
    }
   ],
   "source": [
    "df_1921"
   ],
   "metadata": {
    "collapsed": false
   }
  },
  {
   "cell_type": "code",
   "execution_count": 93,
   "outputs": [],
   "source": [
    "df_1521 = pd.concat([df_1519, df_1921])"
   ],
   "metadata": {
    "collapsed": false
   }
  },
  {
   "cell_type": "code",
   "execution_count": 1,
   "outputs": [
    {
     "ename": "NameError",
     "evalue": "name 'df_1521' is not defined",
     "output_type": "error",
     "traceback": [
      "\u001B[1;31m---------------------------------------------------------------------------\u001B[0m",
      "\u001B[1;31mNameError\u001B[0m                                 Traceback (most recent call last)",
      "Cell \u001B[1;32mIn[1], line 1\u001B[0m\n\u001B[1;32m----> 1\u001B[0m \u001B[43mdf_1521\u001B[49m\n",
      "\u001B[1;31mNameError\u001B[0m: name 'df_1521' is not defined"
     ]
    }
   ],
   "source": [
    "df_1521"
   ],
   "metadata": {
    "collapsed": false
   }
  },
  {
   "cell_type": "code",
   "execution_count": 94,
   "outputs": [],
   "source": [
    "df_1521.to_pickle('underreporting_TIM.pkl')"
   ],
   "metadata": {
    "collapsed": false
   }
  },
  {
   "cell_type": "markdown",
   "source": [
    "<h1>Important stuff starts here</h1>"
   ],
   "metadata": {
    "collapsed": false
   }
  },
  {
   "cell_type": "code",
   "execution_count": 95,
   "outputs": [],
   "source": [
    "df_1521 = pd.read_pickle('underreporting_TIM.pkl')"
   ],
   "metadata": {
    "collapsed": false
   }
  },
  {
   "cell_type": "code",
   "execution_count": 201,
   "outputs": [
    {
     "data": {
      "text/plain": "      Year-Month  Year  Month                ward_n       ward    Borough  \\\n4     2015-05-01  2015      5        Royal Hospital  E05009403  E09000020   \n21    2015-06-01  2015      6            Courtfield  E05009393  E09000020   \n32    2015-04-01  2015      4               Holland  E05009397  E09000020   \n59    2015-04-01  2015      4  Brompton & Hans Town  E05009389  E09000020   \n61    2015-05-01  2015      5  Brompton & Hans Town  E05009389  E09000020   \n...          ...   ...    ...                   ...        ...        ...   \n76345 2021-03-01  2021      3        Thornton Heath  E05011486  E09000008   \n76350 2021-03-01  2021      3          Churchfields  E05011238  E09000026   \n76351 2021-03-01  2021      3             Larkswood  E05000602  E09000031   \n76358 2021-03-01  2021      3                 River  E05000038  E09000002   \n76396 2021-03-01  2021      3           St. Helen's  E05009404  E09000020   \n\n                 Borough name Reported             Crime type  \\\n4      Kensington and Chelsea      Yes         Property crime   \n21     Kensington and Chelsea       No  Anti-Social Behaviour   \n32     Kensington and Chelsea      Yes                  Other   \n59     Kensington and Chelsea      Yes         Property crime   \n61     Kensington and Chelsea       No  Anti-Social Behaviour   \n...                       ...      ...                    ...   \n76345                 Croydon      Yes         Property crime   \n76350               Redbridge      Yes             Harassment   \n76351          Waltham Forest      Yes  Anti-Social Behaviour   \n76358    Barking and Dagenham      Yes             Harassment   \n76396  Kensington and Chelsea      Yes                  Other   \n\n                            Trust Confidence  \n4                  Strongly agree       Good  \n21                 Strongly agree  Excellent  \n32                  Tend to agree       Fair  \n59                  Tend to agree  Very poor  \n61     Neither agree nor disagree       Good  \n...                           ...        ...  \n76345               Tend to agree  Very poor  \n76350               Tend to agree       Poor  \n76351           Strongly disagree  Very poor  \n76358               Tend to agree       Poor  \n76396              Strongly agree       Good  \n\n[8624 rows x 11 columns]",
      "text/html": "<div>\n<style scoped>\n    .dataframe tbody tr th:only-of-type {\n        vertical-align: middle;\n    }\n\n    .dataframe tbody tr th {\n        vertical-align: top;\n    }\n\n    .dataframe thead th {\n        text-align: right;\n    }\n</style>\n<table border=\"1\" class=\"dataframe\">\n  <thead>\n    <tr style=\"text-align: right;\">\n      <th></th>\n      <th>Year-Month</th>\n      <th>Year</th>\n      <th>Month</th>\n      <th>ward_n</th>\n      <th>ward</th>\n      <th>Borough</th>\n      <th>Borough name</th>\n      <th>Reported</th>\n      <th>Crime type</th>\n      <th>Trust</th>\n      <th>Confidence</th>\n    </tr>\n  </thead>\n  <tbody>\n    <tr>\n      <th>4</th>\n      <td>2015-05-01</td>\n      <td>2015</td>\n      <td>5</td>\n      <td>Royal Hospital</td>\n      <td>E05009403</td>\n      <td>E09000020</td>\n      <td>Kensington and Chelsea</td>\n      <td>Yes</td>\n      <td>Property crime</td>\n      <td>Strongly agree</td>\n      <td>Good</td>\n    </tr>\n    <tr>\n      <th>21</th>\n      <td>2015-06-01</td>\n      <td>2015</td>\n      <td>6</td>\n      <td>Courtfield</td>\n      <td>E05009393</td>\n      <td>E09000020</td>\n      <td>Kensington and Chelsea</td>\n      <td>No</td>\n      <td>Anti-Social Behaviour</td>\n      <td>Strongly agree</td>\n      <td>Excellent</td>\n    </tr>\n    <tr>\n      <th>32</th>\n      <td>2015-04-01</td>\n      <td>2015</td>\n      <td>4</td>\n      <td>Holland</td>\n      <td>E05009397</td>\n      <td>E09000020</td>\n      <td>Kensington and Chelsea</td>\n      <td>Yes</td>\n      <td>Other</td>\n      <td>Tend to agree</td>\n      <td>Fair</td>\n    </tr>\n    <tr>\n      <th>59</th>\n      <td>2015-04-01</td>\n      <td>2015</td>\n      <td>4</td>\n      <td>Brompton &amp; Hans Town</td>\n      <td>E05009389</td>\n      <td>E09000020</td>\n      <td>Kensington and Chelsea</td>\n      <td>Yes</td>\n      <td>Property crime</td>\n      <td>Tend to agree</td>\n      <td>Very poor</td>\n    </tr>\n    <tr>\n      <th>61</th>\n      <td>2015-05-01</td>\n      <td>2015</td>\n      <td>5</td>\n      <td>Brompton &amp; Hans Town</td>\n      <td>E05009389</td>\n      <td>E09000020</td>\n      <td>Kensington and Chelsea</td>\n      <td>No</td>\n      <td>Anti-Social Behaviour</td>\n      <td>Neither agree nor disagree</td>\n      <td>Good</td>\n    </tr>\n    <tr>\n      <th>...</th>\n      <td>...</td>\n      <td>...</td>\n      <td>...</td>\n      <td>...</td>\n      <td>...</td>\n      <td>...</td>\n      <td>...</td>\n      <td>...</td>\n      <td>...</td>\n      <td>...</td>\n      <td>...</td>\n    </tr>\n    <tr>\n      <th>76345</th>\n      <td>2021-03-01</td>\n      <td>2021</td>\n      <td>3</td>\n      <td>Thornton Heath</td>\n      <td>E05011486</td>\n      <td>E09000008</td>\n      <td>Croydon</td>\n      <td>Yes</td>\n      <td>Property crime</td>\n      <td>Tend to agree</td>\n      <td>Very poor</td>\n    </tr>\n    <tr>\n      <th>76350</th>\n      <td>2021-03-01</td>\n      <td>2021</td>\n      <td>3</td>\n      <td>Churchfields</td>\n      <td>E05011238</td>\n      <td>E09000026</td>\n      <td>Redbridge</td>\n      <td>Yes</td>\n      <td>Harassment</td>\n      <td>Tend to agree</td>\n      <td>Poor</td>\n    </tr>\n    <tr>\n      <th>76351</th>\n      <td>2021-03-01</td>\n      <td>2021</td>\n      <td>3</td>\n      <td>Larkswood</td>\n      <td>E05000602</td>\n      <td>E09000031</td>\n      <td>Waltham Forest</td>\n      <td>Yes</td>\n      <td>Anti-Social Behaviour</td>\n      <td>Strongly disagree</td>\n      <td>Very poor</td>\n    </tr>\n    <tr>\n      <th>76358</th>\n      <td>2021-03-01</td>\n      <td>2021</td>\n      <td>3</td>\n      <td>River</td>\n      <td>E05000038</td>\n      <td>E09000002</td>\n      <td>Barking and Dagenham</td>\n      <td>Yes</td>\n      <td>Harassment</td>\n      <td>Tend to agree</td>\n      <td>Poor</td>\n    </tr>\n    <tr>\n      <th>76396</th>\n      <td>2021-03-01</td>\n      <td>2021</td>\n      <td>3</td>\n      <td>St. Helen's</td>\n      <td>E05009404</td>\n      <td>E09000020</td>\n      <td>Kensington and Chelsea</td>\n      <td>Yes</td>\n      <td>Other</td>\n      <td>Strongly agree</td>\n      <td>Good</td>\n    </tr>\n  </tbody>\n</table>\n<p>8624 rows × 11 columns</p>\n</div>"
     },
     "execution_count": 201,
     "metadata": {},
     "output_type": "execute_result"
    }
   ],
   "source": [
    "trust_column_order = ['Strongly agree', 'Tend to agree', 'Neither agree nor disagree', 'Tend to disagree', 'Strongly disagree']\n",
    "df_1521"
   ],
   "metadata": {
    "collapsed": false
   }
  },
  {
   "cell_type": "code",
   "execution_count": 202,
   "outputs": [
    {
     "data": {
      "text/plain": "Trust     Strongly agree  Tend to agree  Neither agree nor disagree  \\\nReported                                                              \nNo              0.278079       0.469791                    0.135941   \nYes             0.318107       0.433797                    0.121317   \n\nTrust     Tend to disagree  Strongly disagree  \nReported                                       \nNo                0.068939           0.047250  \nYes               0.075803           0.050976  ",
      "text/html": "<div>\n<style scoped>\n    .dataframe tbody tr th:only-of-type {\n        vertical-align: middle;\n    }\n\n    .dataframe tbody tr th {\n        vertical-align: top;\n    }\n\n    .dataframe thead th {\n        text-align: right;\n    }\n</style>\n<table border=\"1\" class=\"dataframe\">\n  <thead>\n    <tr style=\"text-align: right;\">\n      <th>Trust</th>\n      <th>Strongly agree</th>\n      <th>Tend to agree</th>\n      <th>Neither agree nor disagree</th>\n      <th>Tend to disagree</th>\n      <th>Strongly disagree</th>\n    </tr>\n    <tr>\n      <th>Reported</th>\n      <th></th>\n      <th></th>\n      <th></th>\n      <th></th>\n      <th></th>\n    </tr>\n  </thead>\n  <tbody>\n    <tr>\n      <th>No</th>\n      <td>0.278079</td>\n      <td>0.469791</td>\n      <td>0.135941</td>\n      <td>0.068939</td>\n      <td>0.047250</td>\n    </tr>\n    <tr>\n      <th>Yes</th>\n      <td>0.318107</td>\n      <td>0.433797</td>\n      <td>0.121317</td>\n      <td>0.075803</td>\n      <td>0.050976</td>\n    </tr>\n  </tbody>\n</table>\n</div>"
     },
     "execution_count": 202,
     "metadata": {},
     "output_type": "execute_result"
    }
   ],
   "source": [
    "total_reported_trust_df = df_1521.groupby(['Reported', 'Trust']).size().reset_index(name='Count')\n",
    "total_reported_trust_df.pivot(columns = 'Trust', index='Reported', values='Count').div(total_reported_trust_df.pivot(columns = 'Trust', index='Reported', values='Count').sum(axis=1), axis=0)[trust_column_order]"
   ],
   "metadata": {
    "collapsed": false
   }
  },
  {
   "cell_type": "code",
   "execution_count": 217,
   "outputs": [],
   "source": [
    "borough_reported_trust_df = df_1521.groupby(['Borough', 'Borough name', 'Reported', 'Trust']).size().reset_index(name='Count')\n",
    "borough_reported_trust_dict = {}\n",
    "for borough in borough_reported_trust_df['Borough name'].unique():\n",
    "    borough_pivot_df = borough_reported_trust_df[borough_reported_trust_df['Borough name']==borough].pivot(columns = 'Trust', index='Reported', values='Count')\n",
    "    borough_pivot_df.fillna(0, inplace=True)\n",
    "    borough_pivot_df = borough_pivot_df.reindex(columns=trust_column_order, fill_value=0)\n",
    "    borough_pivot_df = borough_pivot_df.div(borough_pivot_df.sum(axis=1), axis=0)\n",
    "    borough_reported_trust_dict[borough] = borough_pivot_df"
   ],
   "metadata": {
    "collapsed": false
   }
  },
  {
   "cell_type": "code",
   "execution_count": 218,
   "outputs": [
    {
     "data": {
      "text/plain": "Trust     Strongly agree  Tend to agree  Neither agree nor disagree  \\\nReported                                                              \nNo              0.302632       0.434211                    0.157895   \nYes             0.374194       0.406452                    0.103226   \n\nTrust     Tend to disagree  Strongly disagree  \nReported                                       \nNo                0.052632           0.052632  \nYes               0.064516           0.051613  ",
      "text/html": "<div>\n<style scoped>\n    .dataframe tbody tr th:only-of-type {\n        vertical-align: middle;\n    }\n\n    .dataframe tbody tr th {\n        vertical-align: top;\n    }\n\n    .dataframe thead th {\n        text-align: right;\n    }\n</style>\n<table border=\"1\" class=\"dataframe\">\n  <thead>\n    <tr style=\"text-align: right;\">\n      <th>Trust</th>\n      <th>Strongly agree</th>\n      <th>Tend to agree</th>\n      <th>Neither agree nor disagree</th>\n      <th>Tend to disagree</th>\n      <th>Strongly disagree</th>\n    </tr>\n    <tr>\n      <th>Reported</th>\n      <th></th>\n      <th></th>\n      <th></th>\n      <th></th>\n      <th></th>\n    </tr>\n  </thead>\n  <tbody>\n    <tr>\n      <th>No</th>\n      <td>0.302632</td>\n      <td>0.434211</td>\n      <td>0.157895</td>\n      <td>0.052632</td>\n      <td>0.052632</td>\n    </tr>\n    <tr>\n      <th>Yes</th>\n      <td>0.374194</td>\n      <td>0.406452</td>\n      <td>0.103226</td>\n      <td>0.064516</td>\n      <td>0.051613</td>\n    </tr>\n  </tbody>\n</table>\n</div>"
     },
     "execution_count": 218,
     "metadata": {},
     "output_type": "execute_result"
    }
   ],
   "source": [
    "borough_reported_trust_dict['Westminster']"
   ],
   "metadata": {
    "collapsed": false
   }
  },
  {
   "cell_type": "code",
   "execution_count": 219,
   "outputs": [],
   "source": [
    "ward_reported_trust_df = df_1521.groupby(['ward_n', 'Reported', 'Trust']).size().reset_index(name='Count')\n",
    "ward_reported_trust_dict = {}\n",
    "for ward in ward_reported_trust_df['ward_n'].unique():\n",
    "    ward_pivot_df = ward_reported_trust_df[ward_reported_trust_df['ward_n']==ward].pivot(columns = 'Trust', index='Reported', values='Count')\n",
    "    ward_pivot_df.fillna(0, inplace=True)\n",
    "    ward_pivot_df = ward_pivot_df.reindex(columns=trust_column_order, fill_value=0)\n",
    "    ward_pivot_df = ward_pivot_df.div(ward_pivot_df.sum(axis=1), axis=0)\n",
    "    ward_reported_trust_dict[ward] = ward_pivot_df"
   ],
   "metadata": {
    "collapsed": false
   }
  },
  {
   "cell_type": "code",
   "execution_count": 220,
   "outputs": [
    {
     "data": {
      "text/plain": "Trust     Strongly agree  Tend to agree  Neither agree nor disagree  \\\nReported                                                              \nNo              0.142857       0.571429                    0.214286   \nYes             0.263158       0.526316                    0.052632   \n\nTrust     Tend to disagree  Strongly disagree  \nReported                                       \nNo                0.000000           0.071429  \nYes               0.105263           0.052632  ",
      "text/html": "<div>\n<style scoped>\n    .dataframe tbody tr th:only-of-type {\n        vertical-align: middle;\n    }\n\n    .dataframe tbody tr th {\n        vertical-align: top;\n    }\n\n    .dataframe thead th {\n        text-align: right;\n    }\n</style>\n<table border=\"1\" class=\"dataframe\">\n  <thead>\n    <tr style=\"text-align: right;\">\n      <th>Trust</th>\n      <th>Strongly agree</th>\n      <th>Tend to agree</th>\n      <th>Neither agree nor disagree</th>\n      <th>Tend to disagree</th>\n      <th>Strongly disagree</th>\n    </tr>\n    <tr>\n      <th>Reported</th>\n      <th></th>\n      <th></th>\n      <th></th>\n      <th></th>\n      <th></th>\n    </tr>\n  </thead>\n  <tbody>\n    <tr>\n      <th>No</th>\n      <td>0.142857</td>\n      <td>0.571429</td>\n      <td>0.214286</td>\n      <td>0.000000</td>\n      <td>0.071429</td>\n    </tr>\n    <tr>\n      <th>Yes</th>\n      <td>0.263158</td>\n      <td>0.526316</td>\n      <td>0.052632</td>\n      <td>0.105263</td>\n      <td>0.052632</td>\n    </tr>\n  </tbody>\n</table>\n</div>"
     },
     "execution_count": 220,
     "metadata": {},
     "output_type": "execute_result"
    }
   ],
   "source": [
    "ward_reported_trust_dict['Abbey']"
   ],
   "metadata": {
    "collapsed": false
   }
  },
  {
   "cell_type": "code",
   "execution_count": 184,
   "outputs": [
    {
     "data": {
      "text/plain": "Confidence  Excellent      Fair      Good      Poor  Very poor\nReported                                                      \nNo           0.066615  0.350891  0.395430  0.132843   0.054222\nYes          0.083416  0.318272  0.392916  0.138530   0.066865",
      "text/html": "<div>\n<style scoped>\n    .dataframe tbody tr th:only-of-type {\n        vertical-align: middle;\n    }\n\n    .dataframe tbody tr th {\n        vertical-align: top;\n    }\n\n    .dataframe thead th {\n        text-align: right;\n    }\n</style>\n<table border=\"1\" class=\"dataframe\">\n  <thead>\n    <tr style=\"text-align: right;\">\n      <th>Confidence</th>\n      <th>Excellent</th>\n      <th>Fair</th>\n      <th>Good</th>\n      <th>Poor</th>\n      <th>Very poor</th>\n    </tr>\n    <tr>\n      <th>Reported</th>\n      <th></th>\n      <th></th>\n      <th></th>\n      <th></th>\n      <th></th>\n    </tr>\n  </thead>\n  <tbody>\n    <tr>\n      <th>No</th>\n      <td>0.066615</td>\n      <td>0.350891</td>\n      <td>0.395430</td>\n      <td>0.132843</td>\n      <td>0.054222</td>\n    </tr>\n    <tr>\n      <th>Yes</th>\n      <td>0.083416</td>\n      <td>0.318272</td>\n      <td>0.392916</td>\n      <td>0.138530</td>\n      <td>0.066865</td>\n    </tr>\n  </tbody>\n</table>\n</div>"
     },
     "execution_count": 184,
     "metadata": {},
     "output_type": "execute_result"
    }
   ],
   "source": [
    "total_reported_confidence_df = df_1521.groupby(['Reported', 'Confidence']).size().reset_index(name='Count')\n",
    "total_reported_confidence_df.pivot(columns = 'Confidence', index='Reported', values='Count').div(total_reported_confidence_df.pivot(columns = 'Confidence', index='Reported', values='Count').sum(axis=1), axis=0)\n"
   ],
   "metadata": {
    "collapsed": false
   }
  },
  {
   "cell_type": "code",
   "execution_count": null,
   "outputs": [],
   "source": [
    "total_reported_confidence_df"
   ],
   "metadata": {
    "collapsed": false
   }
  },
  {
   "cell_type": "code",
   "execution_count": 190,
   "outputs": [],
   "source": [
    "borough_reported_confidence_df = df_1521.groupby(['Borough', 'Borough name', 'Reported', 'Confidence']).size().reset_index(name='Count')\n",
    "borough_reported_confidence_dict = {}\n",
    "for borough in borough_reported_confidence_df['Borough name'].unique():\n",
    "    borough_pivot_df = borough_reported_confidence_df[borough_reported_confidence_df['Borough name']==borough].pivot(columns = 'Confidence', index='Reported', values='Count')\n",
    "    borough_pivot_df.fillna(0, inplace=True)\n",
    "    borough_pivot_df = borough_pivot_df.div(borough_pivot_df.sum(axis=1), axis=0)\n",
    "    borough_reported_confidence_dict[borough] = borough_pivot_df"
   ],
   "metadata": {
    "collapsed": false
   }
  },
  {
   "cell_type": "code",
   "execution_count": 191,
   "outputs": [
    {
     "data": {
      "text/plain": "Confidence  Excellent      Fair      Good      Poor  Very poor\nReported                                                      \nNo           0.078947  0.302632  0.407895  0.118421   0.092105\nYes          0.083871  0.309677  0.419355  0.109677   0.077419",
      "text/html": "<div>\n<style scoped>\n    .dataframe tbody tr th:only-of-type {\n        vertical-align: middle;\n    }\n\n    .dataframe tbody tr th {\n        vertical-align: top;\n    }\n\n    .dataframe thead th {\n        text-align: right;\n    }\n</style>\n<table border=\"1\" class=\"dataframe\">\n  <thead>\n    <tr style=\"text-align: right;\">\n      <th>Confidence</th>\n      <th>Excellent</th>\n      <th>Fair</th>\n      <th>Good</th>\n      <th>Poor</th>\n      <th>Very poor</th>\n    </tr>\n    <tr>\n      <th>Reported</th>\n      <th></th>\n      <th></th>\n      <th></th>\n      <th></th>\n      <th></th>\n    </tr>\n  </thead>\n  <tbody>\n    <tr>\n      <th>No</th>\n      <td>0.078947</td>\n      <td>0.302632</td>\n      <td>0.407895</td>\n      <td>0.118421</td>\n      <td>0.092105</td>\n    </tr>\n    <tr>\n      <th>Yes</th>\n      <td>0.083871</td>\n      <td>0.309677</td>\n      <td>0.419355</td>\n      <td>0.109677</td>\n      <td>0.077419</td>\n    </tr>\n  </tbody>\n</table>\n</div>"
     },
     "execution_count": 191,
     "metadata": {},
     "output_type": "execute_result"
    }
   ],
   "source": [
    "borough_reported_confidence_dict['Westminster']"
   ],
   "metadata": {
    "collapsed": false
   }
  },
  {
   "cell_type": "code",
   "execution_count": 196,
   "outputs": [],
   "source": [
    "ward_reported_confidence_df = df_1521.groupby(['ward_n', 'Reported', 'Confidence']).size().reset_index(name='Count')\n",
    "ward_reported_confidence_dict = {}\n",
    "for ward in ward_reported_confidence_df['ward_n'].unique():\n",
    "    ward_pivot_df = ward_reported_confidence_df[ward_reported_confidence_df['ward_n']==ward].pivot(columns = 'Confidence', index='Reported', values='Count')\n",
    "    ward_pivot_df.fillna(0, inplace=True)\n",
    "    ward_pivot_df = ward_pivot_df.div(ward_pivot_df.sum(axis=1), axis=0)\n",
    "    ward_reported_confidence_dict[ward] = ward_pivot_df"
   ],
   "metadata": {
    "collapsed": false
   }
  },
  {
   "cell_type": "code",
   "execution_count": 197,
   "outputs": [
    {
     "data": {
      "text/plain": "Confidence  Excellent      Fair      Good      Poor  Very poor\nReported                                                      \nNo           0.071429  0.214286  0.571429  0.071429   0.071429\nYes          0.157895  0.315789  0.315789  0.105263   0.105263",
      "text/html": "<div>\n<style scoped>\n    .dataframe tbody tr th:only-of-type {\n        vertical-align: middle;\n    }\n\n    .dataframe tbody tr th {\n        vertical-align: top;\n    }\n\n    .dataframe thead th {\n        text-align: right;\n    }\n</style>\n<table border=\"1\" class=\"dataframe\">\n  <thead>\n    <tr style=\"text-align: right;\">\n      <th>Confidence</th>\n      <th>Excellent</th>\n      <th>Fair</th>\n      <th>Good</th>\n      <th>Poor</th>\n      <th>Very poor</th>\n    </tr>\n    <tr>\n      <th>Reported</th>\n      <th></th>\n      <th></th>\n      <th></th>\n      <th></th>\n      <th></th>\n    </tr>\n  </thead>\n  <tbody>\n    <tr>\n      <th>No</th>\n      <td>0.071429</td>\n      <td>0.214286</td>\n      <td>0.571429</td>\n      <td>0.071429</td>\n      <td>0.071429</td>\n    </tr>\n    <tr>\n      <th>Yes</th>\n      <td>0.157895</td>\n      <td>0.315789</td>\n      <td>0.315789</td>\n      <td>0.105263</td>\n      <td>0.105263</td>\n    </tr>\n  </tbody>\n</table>\n</div>"
     },
     "execution_count": 197,
     "metadata": {},
     "output_type": "execute_result"
    }
   ],
   "source": [
    "ward_reported_confidence_dict['Abbey']"
   ],
   "metadata": {
    "collapsed": false
   }
  },
  {
   "cell_type": "code",
   "execution_count": 130,
   "outputs": [
    {
     "name": "stdout",
     "output_type": "stream",
     "text": [
      "For total:\n",
      "Max not reported: Anti-Social Behaviour\n",
      "Max reported: Property crime\n",
      "\n",
      "\n"
     ]
    }
   ],
   "source": [
    "total_reported_crime_type_df = df_1521.groupby(['Reported', 'Crime type']).size().reset_index(name='Count')\n",
    "total_no = total_reported_crime_type_df[(total_reported_crime_type_df['Reported']=='No')].copy()\n",
    "total_no['Proportion'] = total_no['Count']/total_no['Count'].sum()\n",
    "total_yes = total_reported_crime_type_df[(total_reported_crime_type_df['Reported']=='Yes')].copy()\n",
    "total_yes['Proportion'] = total_yes['Count']/total_yes['Count'].sum()\n",
    "max_not_reported = total_no.loc[total_no['Proportion'].idxmax()]['Crime type']\n",
    "min_not_reported = total_no.loc[total_no['Proportion'].idxmin()]['Crime type']\n",
    "max_reported = total_yes.loc[total_yes['Proportion'].idxmax()]['Crime type']\n",
    "min_reported = total_yes.loc[total_yes['Proportion'].idxmin()]['Crime type']\n",
    "text = (\n",
    "    f\"For total:\\n\"\n",
    "    f\"Max not reported: {max_not_reported}\\n\"\n",
    "    f\"Max reported: {max_reported}\\n\\n\"\n",
    ")\n",
    "print(text)"
   ],
   "metadata": {
    "collapsed": false
   }
  },
  {
   "cell_type": "code",
   "execution_count": 134,
   "outputs": [
    {
     "data": {
      "text/plain": "              Borough name    Max reported       Max not reported\n0     Barking and Dagenham  Property crime         Property crime\n1                   Barnet  Property crime  Anti-Social Behaviour\n2                   Bexley  Property crime  Anti-Social Behaviour\n3                    Brent  Property crime  Anti-Social Behaviour\n4                  Bromley  Property crime  Anti-Social Behaviour\n5                   Camden  Property crime         Property crime\n6                  Croydon  Property crime  Anti-Social Behaviour\n7                   Ealing  Property crime         Property crime\n8                  Enfield  Property crime         Property crime\n9                Greenwich  Property crime  Anti-Social Behaviour\n10                 Hackney  Property crime  Anti-Social Behaviour\n11  Hammersmith and Fulham  Property crime         Property crime\n12                Haringey  Property crime  Anti-Social Behaviour\n13                  Harrow  Property crime  Anti-Social Behaviour\n14                Havering  Property crime         Property crime\n15              Hillingdon  Property crime  Anti-Social Behaviour\n16                Hounslow  Property crime  Anti-Social Behaviour\n17               Islington  Property crime  Anti-Social Behaviour\n18  Kensington and Chelsea  Property crime  Anti-Social Behaviour\n19    Kingston upon Thames  Property crime  Anti-Social Behaviour\n20                 Lambeth  Property crime  Anti-Social Behaviour\n21                Lewisham  Property crime         Property crime\n22                  Merton  Property crime  Anti-Social Behaviour\n23                  Newham  Property crime  Anti-Social Behaviour\n24               Redbridge  Property crime         Property crime\n25    Richmond upon Thames  Property crime  Anti-Social Behaviour\n26               Southwark  Property crime  Anti-Social Behaviour\n27                  Sutton  Property crime  Anti-Social Behaviour\n28           Tower Hamlets  Property crime  Anti-Social Behaviour\n29          Waltham Forest  Property crime         Property crime\n30              Wandsworth  Property crime  Anti-Social Behaviour\n31             Westminster  Property crime  Anti-Social Behaviour",
      "text/html": "<div>\n<style scoped>\n    .dataframe tbody tr th:only-of-type {\n        vertical-align: middle;\n    }\n\n    .dataframe tbody tr th {\n        vertical-align: top;\n    }\n\n    .dataframe thead th {\n        text-align: right;\n    }\n</style>\n<table border=\"1\" class=\"dataframe\">\n  <thead>\n    <tr style=\"text-align: right;\">\n      <th></th>\n      <th>Borough name</th>\n      <th>Max reported</th>\n      <th>Max not reported</th>\n    </tr>\n  </thead>\n  <tbody>\n    <tr>\n      <th>0</th>\n      <td>Barking and Dagenham</td>\n      <td>Property crime</td>\n      <td>Property crime</td>\n    </tr>\n    <tr>\n      <th>1</th>\n      <td>Barnet</td>\n      <td>Property crime</td>\n      <td>Anti-Social Behaviour</td>\n    </tr>\n    <tr>\n      <th>2</th>\n      <td>Bexley</td>\n      <td>Property crime</td>\n      <td>Anti-Social Behaviour</td>\n    </tr>\n    <tr>\n      <th>3</th>\n      <td>Brent</td>\n      <td>Property crime</td>\n      <td>Anti-Social Behaviour</td>\n    </tr>\n    <tr>\n      <th>4</th>\n      <td>Bromley</td>\n      <td>Property crime</td>\n      <td>Anti-Social Behaviour</td>\n    </tr>\n    <tr>\n      <th>5</th>\n      <td>Camden</td>\n      <td>Property crime</td>\n      <td>Property crime</td>\n    </tr>\n    <tr>\n      <th>6</th>\n      <td>Croydon</td>\n      <td>Property crime</td>\n      <td>Anti-Social Behaviour</td>\n    </tr>\n    <tr>\n      <th>7</th>\n      <td>Ealing</td>\n      <td>Property crime</td>\n      <td>Property crime</td>\n    </tr>\n    <tr>\n      <th>8</th>\n      <td>Enfield</td>\n      <td>Property crime</td>\n      <td>Property crime</td>\n    </tr>\n    <tr>\n      <th>9</th>\n      <td>Greenwich</td>\n      <td>Property crime</td>\n      <td>Anti-Social Behaviour</td>\n    </tr>\n    <tr>\n      <th>10</th>\n      <td>Hackney</td>\n      <td>Property crime</td>\n      <td>Anti-Social Behaviour</td>\n    </tr>\n    <tr>\n      <th>11</th>\n      <td>Hammersmith and Fulham</td>\n      <td>Property crime</td>\n      <td>Property crime</td>\n    </tr>\n    <tr>\n      <th>12</th>\n      <td>Haringey</td>\n      <td>Property crime</td>\n      <td>Anti-Social Behaviour</td>\n    </tr>\n    <tr>\n      <th>13</th>\n      <td>Harrow</td>\n      <td>Property crime</td>\n      <td>Anti-Social Behaviour</td>\n    </tr>\n    <tr>\n      <th>14</th>\n      <td>Havering</td>\n      <td>Property crime</td>\n      <td>Property crime</td>\n    </tr>\n    <tr>\n      <th>15</th>\n      <td>Hillingdon</td>\n      <td>Property crime</td>\n      <td>Anti-Social Behaviour</td>\n    </tr>\n    <tr>\n      <th>16</th>\n      <td>Hounslow</td>\n      <td>Property crime</td>\n      <td>Anti-Social Behaviour</td>\n    </tr>\n    <tr>\n      <th>17</th>\n      <td>Islington</td>\n      <td>Property crime</td>\n      <td>Anti-Social Behaviour</td>\n    </tr>\n    <tr>\n      <th>18</th>\n      <td>Kensington and Chelsea</td>\n      <td>Property crime</td>\n      <td>Anti-Social Behaviour</td>\n    </tr>\n    <tr>\n      <th>19</th>\n      <td>Kingston upon Thames</td>\n      <td>Property crime</td>\n      <td>Anti-Social Behaviour</td>\n    </tr>\n    <tr>\n      <th>20</th>\n      <td>Lambeth</td>\n      <td>Property crime</td>\n      <td>Anti-Social Behaviour</td>\n    </tr>\n    <tr>\n      <th>21</th>\n      <td>Lewisham</td>\n      <td>Property crime</td>\n      <td>Property crime</td>\n    </tr>\n    <tr>\n      <th>22</th>\n      <td>Merton</td>\n      <td>Property crime</td>\n      <td>Anti-Social Behaviour</td>\n    </tr>\n    <tr>\n      <th>23</th>\n      <td>Newham</td>\n      <td>Property crime</td>\n      <td>Anti-Social Behaviour</td>\n    </tr>\n    <tr>\n      <th>24</th>\n      <td>Redbridge</td>\n      <td>Property crime</td>\n      <td>Property crime</td>\n    </tr>\n    <tr>\n      <th>25</th>\n      <td>Richmond upon Thames</td>\n      <td>Property crime</td>\n      <td>Anti-Social Behaviour</td>\n    </tr>\n    <tr>\n      <th>26</th>\n      <td>Southwark</td>\n      <td>Property crime</td>\n      <td>Anti-Social Behaviour</td>\n    </tr>\n    <tr>\n      <th>27</th>\n      <td>Sutton</td>\n      <td>Property crime</td>\n      <td>Anti-Social Behaviour</td>\n    </tr>\n    <tr>\n      <th>28</th>\n      <td>Tower Hamlets</td>\n      <td>Property crime</td>\n      <td>Anti-Social Behaviour</td>\n    </tr>\n    <tr>\n      <th>29</th>\n      <td>Waltham Forest</td>\n      <td>Property crime</td>\n      <td>Property crime</td>\n    </tr>\n    <tr>\n      <th>30</th>\n      <td>Wandsworth</td>\n      <td>Property crime</td>\n      <td>Anti-Social Behaviour</td>\n    </tr>\n    <tr>\n      <th>31</th>\n      <td>Westminster</td>\n      <td>Property crime</td>\n      <td>Anti-Social Behaviour</td>\n    </tr>\n  </tbody>\n</table>\n</div>"
     },
     "execution_count": 134,
     "metadata": {},
     "output_type": "execute_result"
    }
   ],
   "source": [
    "borough_reported_crime_type_df = df_1521.groupby(['Borough', 'Borough name', 'Reported', 'Crime type']).size().reset_index(name='Count')\n",
    "max_borough_reported_crime_type_df = pd.DataFrame(columns=['Borough name', 'Max reported', 'Max not reported'])\n",
    "for borough in borough_reported_crime_type_df['Borough name'].unique():\n",
    "    borough_no = borough_reported_crime_type_df[(borough_reported_crime_type_df['Borough name']==borough)&(borough_reported_crime_type_df['Reported']=='No')].copy()\n",
    "    borough_no['Proportion'] = borough_no['Count']/borough_no['Count'].sum()\n",
    "    borough_yes = borough_reported_crime_type_df[(borough_reported_crime_type_df['Borough name']==borough)&(borough_reported_crime_type_df['Reported']=='Yes')].copy()\n",
    "    borough_yes['Proportion'] = borough_yes['Count']/borough_yes['Count'].sum()\n",
    "    max_not_reported = borough_no.loc[borough_no['Proportion'].idxmax()]['Crime type']\n",
    "    min_not_reported = borough_no.loc[borough_no['Proportion'].idxmin()]['Crime type']\n",
    "    max_reported = borough_yes.loc[borough_yes['Proportion'].idxmax()]['Crime type']\n",
    "    min_reported = borough_yes.loc[borough_yes['Proportion'].idxmin()]['Crime type']\n",
    "    # text = (\n",
    "    #     f\"For borough {borough}:\\n\"\n",
    "    #     f\"Max not reported: {max_not_reported}\\n\"\n",
    "    #     f\"Max reported: {max_reported}\\n\\n\"\n",
    "    # )\n",
    "    max_borough_reported_crime_type_df.loc[len(max_borough_reported_crime_type_df)] = [borough, max_reported, max_not_reported]\n",
    "max_borough_reported_crime_type_df"
   ],
   "metadata": {
    "collapsed": false
   }
  },
  {
   "cell_type": "code",
   "execution_count": 153,
   "outputs": [
    {
     "data": {
      "text/plain": "                       Ward name           Max reported       Max not reported\n0                          Abbey         Property crime  Anti-Social Behaviour\n1                      Becontree         Property crime         Property crime\n2                 Chadwell Heath         Property crime  Anti-Social Behaviour\n3                      Eastbrook         Property crime         Property crime\n4                       Eastbury         Property crime         Property crime\n..                           ...                    ...                    ...\n607    Purley Oaks & Riddlesdown         Property crime             Hate crime\n608  Selsdon & Addington Village         Property crime         Property crime\n609    Selsdon Vale & Forestdale         Property crime  Anti-Social Behaviour\n610                Shirley South  Anti-Social Behaviour  Anti-Social Behaviour\n611                South Croydon                  Other         Property crime\n\n[612 rows x 3 columns]",
      "text/html": "<div>\n<style scoped>\n    .dataframe tbody tr th:only-of-type {\n        vertical-align: middle;\n    }\n\n    .dataframe tbody tr th {\n        vertical-align: top;\n    }\n\n    .dataframe thead th {\n        text-align: right;\n    }\n</style>\n<table border=\"1\" class=\"dataframe\">\n  <thead>\n    <tr style=\"text-align: right;\">\n      <th></th>\n      <th>Ward name</th>\n      <th>Max reported</th>\n      <th>Max not reported</th>\n    </tr>\n  </thead>\n  <tbody>\n    <tr>\n      <th>0</th>\n      <td>Abbey</td>\n      <td>Property crime</td>\n      <td>Anti-Social Behaviour</td>\n    </tr>\n    <tr>\n      <th>1</th>\n      <td>Becontree</td>\n      <td>Property crime</td>\n      <td>Property crime</td>\n    </tr>\n    <tr>\n      <th>2</th>\n      <td>Chadwell Heath</td>\n      <td>Property crime</td>\n      <td>Anti-Social Behaviour</td>\n    </tr>\n    <tr>\n      <th>3</th>\n      <td>Eastbrook</td>\n      <td>Property crime</td>\n      <td>Property crime</td>\n    </tr>\n    <tr>\n      <th>4</th>\n      <td>Eastbury</td>\n      <td>Property crime</td>\n      <td>Property crime</td>\n    </tr>\n    <tr>\n      <th>...</th>\n      <td>...</td>\n      <td>...</td>\n      <td>...</td>\n    </tr>\n    <tr>\n      <th>607</th>\n      <td>Purley Oaks &amp; Riddlesdown</td>\n      <td>Property crime</td>\n      <td>Hate crime</td>\n    </tr>\n    <tr>\n      <th>608</th>\n      <td>Selsdon &amp; Addington Village</td>\n      <td>Property crime</td>\n      <td>Property crime</td>\n    </tr>\n    <tr>\n      <th>609</th>\n      <td>Selsdon Vale &amp; Forestdale</td>\n      <td>Property crime</td>\n      <td>Anti-Social Behaviour</td>\n    </tr>\n    <tr>\n      <th>610</th>\n      <td>Shirley South</td>\n      <td>Anti-Social Behaviour</td>\n      <td>Anti-Social Behaviour</td>\n    </tr>\n    <tr>\n      <th>611</th>\n      <td>South Croydon</td>\n      <td>Other</td>\n      <td>Property crime</td>\n    </tr>\n  </tbody>\n</table>\n<p>612 rows × 3 columns</p>\n</div>"
     },
     "execution_count": 153,
     "metadata": {},
     "output_type": "execute_result"
    }
   ],
   "source": [
    "ward_reported_crime_type_df = df_1521.groupby(['ward', 'ward_n', 'Reported', 'Crime type']).size().reset_index(name='Count')\n",
    "max_ward_reported_crime_type_df = pd.DataFrame(columns=['Ward name', 'Max reported', 'Max not reported'])\n",
    "for ward in ward_reported_crime_type_df['ward_n'].unique():\n",
    "    ward_no = ward_reported_crime_type_df[(ward_reported_crime_type_df['ward_n']==ward)&(ward_reported_crime_type_df['Reported']=='No')].copy()\n",
    "    ward_no['Proportion'] = ward_no['Count']/ward_no['Count'].sum()\n",
    "    ward_yes = ward_reported_crime_type_df[(ward_reported_crime_type_df['ward_n']==ward)&(ward_reported_crime_type_df['Reported']=='Yes')].copy()\n",
    "    ward_yes['Proportion'] = ward_yes['Count']/ward_yes['Count'].sum()\n",
    "    if not len(ward_no) or not len(ward_yes):\n",
    "        continue\n",
    "    max_not_reported = ward_no.loc[ward_no['Proportion'].idxmax()]['Crime type']\n",
    "    min_not_reported = ward_no.loc[ward_no['Proportion'].idxmin()]['Crime type']\n",
    "    max_reported = ward_yes.loc[ward_yes['Proportion'].idxmax()]['Crime type']\n",
    "    min_reported = ward_yes.loc[ward_yes['Proportion'].idxmin()]['Crime type']\n",
    "    # text = (\n",
    "    #     f\"For borough {borough}:\\n\"\n",
    "    #     f\"Max not reported: {max_not_reported}\\n\"\n",
    "    #     f\"Max reported: {max_reported}\\n\\n\"\n",
    "    # )\n",
    "    max_ward_reported_crime_type_df.loc[len(max_ward_reported_crime_type_df)] = [ward, max_reported, max_not_reported]\n",
    "max_ward_reported_crime_type_df"
   ],
   "metadata": {
    "collapsed": false
   }
  },
  {
   "cell_type": "code",
   "execution_count": 2,
   "outputs": [
    {
     "ename": "NameError",
     "evalue": "name 'ward_borough_old' is not defined",
     "output_type": "error",
     "traceback": [
      "\u001B[1;31m---------------------------------------------------------------------------\u001B[0m",
      "\u001B[1;31mNameError\u001B[0m                                 Traceback (most recent call last)",
      "Cell \u001B[1;32mIn[2], line 1\u001B[0m\n\u001B[1;32m----> 1\u001B[0m \u001B[43mward_borough_old\u001B[49m\n",
      "\u001B[1;31mNameError\u001B[0m: name 'ward_borough_old' is not defined"
     ]
    }
   ],
   "source": [
    "ward_borough_old"
   ],
   "metadata": {
    "collapsed": false
   }
  },
  {
   "cell_type": "code",
   "execution_count": null,
   "outputs": [],
   "source": [],
   "metadata": {
    "collapsed": false
   }
  }
 ],
 "metadata": {
  "kernelspec": {
   "display_name": "Python 3",
   "language": "python",
   "name": "python3"
  },
  "language_info": {
   "codemirror_mode": {
    "name": "ipython",
    "version": 2
   },
   "file_extension": ".py",
   "mimetype": "text/x-python",
   "name": "python",
   "nbconvert_exporter": "python",
   "pygments_lexer": "ipython2",
   "version": "2.7.6"
  }
 },
 "nbformat": 4,
 "nbformat_minor": 0
}
